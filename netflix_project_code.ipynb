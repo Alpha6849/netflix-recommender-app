{
 "cells": [
  {
   "cell_type": "markdown",
   "id": "efd43089",
   "metadata": {},
   "source": [
    "## Phase 1: Exploratory Data Analysis (EDA)\n",
    "\n",
    "### Objective:\n",
    "The primary goal of Phase 1 is to build a complete understanding of the Netflix dataset. This phase lays the foundation for all downstream work by identifying key patterns, data types, distributions, and anomalies in the raw data.\n",
    "\n",
    "---\n",
    "\n",
    "### Key Focus Areas:\n",
    "- Understand the structure and schema of the dataset.\n",
    "- Quantify and visualize missing values across key fields such as `director`, `cast`, `country`, and `rating`.\n",
    "- Analyze the distribution of categorical variables like:\n",
    "  - **Type** (Movie vs TV Show)\n",
    "  - **Rating** (TV-MA, PG, R, etc.)\n",
    "  - **Genres** (`listed_in`)\n",
    "- Investigate temporal trends:\n",
    "  - Year-wise content production (`release_year`)\n",
    "  - Growth of Netflix content over time\n",
    "- Examine country-wise content volume.\n",
    "- Identify the most dominant genres across all content types.\n",
    "\n",
    "---\n",
    "\n",
    "### Deliverables:\n",
    "- Summary statistics using `df.info()`, `describe()`, and `isnull().sum()`\n",
    "- High-level visual insights:\n",
    "  - Count of Movies vs TV Shows\n",
    "  - Top 10 producing countries\n",
    "  - Release trend over the years\n",
    "  - Rating distribution\n",
    "\n",
    "---\n",
    "\n",
    "### Insights Expected:\n",
    "- Content trends across time and geography\n",
    "- Genre popularity and potential for feature extraction\n",
    "- Rating classification feasibility\n",
    "- Data cleanliness, sparsity, and encoding challenges to address in Phase 2\n",
    "\n",
    "---\n",
    "\n",
    "### Outcome:\n",
    "By the end of Phase 1, we will have a well-documented understanding of the dataset and a strong analytical base to drive feature engineering, cleaning, and modeling in the next phases.\n"
   ]
  },
  {
   "cell_type": "code",
   "execution_count": 2,
   "id": "753c5420",
   "metadata": {},
   "outputs": [
    {
     "data": {
      "application/vnd.microsoft.datawrangler.viewer.v0+json": {
       "columns": [
        {
         "name": "index",
         "rawType": "int64",
         "type": "integer"
        },
        {
         "name": "show_id",
         "rawType": "object",
         "type": "string"
        },
        {
         "name": "type",
         "rawType": "object",
         "type": "string"
        },
        {
         "name": "title",
         "rawType": "object",
         "type": "string"
        },
        {
         "name": "director",
         "rawType": "object",
         "type": "unknown"
        },
        {
         "name": "cast",
         "rawType": "object",
         "type": "unknown"
        },
        {
         "name": "country",
         "rawType": "object",
         "type": "unknown"
        },
        {
         "name": "date_added",
         "rawType": "object",
         "type": "string"
        },
        {
         "name": "release_year",
         "rawType": "int64",
         "type": "integer"
        },
        {
         "name": "rating",
         "rawType": "object",
         "type": "string"
        },
        {
         "name": "duration",
         "rawType": "object",
         "type": "string"
        },
        {
         "name": "listed_in",
         "rawType": "object",
         "type": "string"
        },
        {
         "name": "description",
         "rawType": "object",
         "type": "string"
        }
       ],
       "ref": "4af536cb-4330-495e-adac-e25a34242c25",
       "rows": [
        [
         "0",
         "s1",
         "Movie",
         "Dick Johnson Is Dead",
         "Kirsten Johnson",
         null,
         "United States",
         "September 25, 2021",
         "2020",
         "PG-13",
         "90 min",
         "Documentaries",
         "As her father nears the end of his life, filmmaker Kirsten Johnson stages his death in inventive and comical ways to help them both face the inevitable."
        ],
        [
         "1",
         "s2",
         "TV Show",
         "Blood & Water",
         null,
         "Ama Qamata, Khosi Ngema, Gail Mabalane, Thabang Molaba, Dillon Windvogel, Natasha Thahane, Arno Greeff, Xolile Tshabalala, Getmore Sithole, Cindy Mahlangu, Ryle De Morny, Greteli Fincham, Sello Maake Ka-Ncube, Odwa Gwanya, Mekaila Mathys, Sandi Schultz, Duane Williams, Shamilla Miller, Patrick Mofokeng",
         "South Africa",
         "September 24, 2021",
         "2021",
         "TV-MA",
         "2 Seasons",
         "International TV Shows, TV Dramas, TV Mysteries",
         "After crossing paths at a party, a Cape Town teen sets out to prove whether a private-school swimming star is her sister who was abducted at birth."
        ],
        [
         "2",
         "s3",
         "TV Show",
         "Ganglands",
         "Julien Leclercq",
         "Sami Bouajila, Tracy Gotoas, Samuel Jouy, Nabiha Akkari, Sofia Lesaffre, Salim Kechiouche, Noureddine Farihi, Geert Van Rampelberg, Bakary Diombera",
         null,
         "September 24, 2021",
         "2021",
         "TV-MA",
         "1 Season",
         "Crime TV Shows, International TV Shows, TV Action & Adventure",
         "To protect his family from a powerful drug lord, skilled thief Mehdi and his expert team of robbers are pulled into a violent and deadly turf war."
        ],
        [
         "3",
         "s4",
         "TV Show",
         "Jailbirds New Orleans",
         null,
         null,
         null,
         "September 24, 2021",
         "2021",
         "TV-MA",
         "1 Season",
         "Docuseries, Reality TV",
         "Feuds, flirtations and toilet talk go down among the incarcerated women at the Orleans Justice Center in New Orleans on this gritty reality series."
        ],
        [
         "4",
         "s5",
         "TV Show",
         "Kota Factory",
         null,
         "Mayur More, Jitendra Kumar, Ranjan Raj, Alam Khan, Ahsaas Channa, Revathi Pillai, Urvi Singh, Arun Kumar",
         "India",
         "September 24, 2021",
         "2021",
         "TV-MA",
         "2 Seasons",
         "International TV Shows, Romantic TV Shows, TV Comedies",
         "In a city of coaching centers known to train India’s finest collegiate minds, an earnest but unexceptional student and his friends navigate campus life."
        ]
       ],
       "shape": {
        "columns": 12,
        "rows": 5
       }
      },
      "text/html": [
       "<div>\n",
       "<style scoped>\n",
       "    .dataframe tbody tr th:only-of-type {\n",
       "        vertical-align: middle;\n",
       "    }\n",
       "\n",
       "    .dataframe tbody tr th {\n",
       "        vertical-align: top;\n",
       "    }\n",
       "\n",
       "    .dataframe thead th {\n",
       "        text-align: right;\n",
       "    }\n",
       "</style>\n",
       "<table border=\"1\" class=\"dataframe\">\n",
       "  <thead>\n",
       "    <tr style=\"text-align: right;\">\n",
       "      <th></th>\n",
       "      <th>show_id</th>\n",
       "      <th>type</th>\n",
       "      <th>title</th>\n",
       "      <th>director</th>\n",
       "      <th>cast</th>\n",
       "      <th>country</th>\n",
       "      <th>date_added</th>\n",
       "      <th>release_year</th>\n",
       "      <th>rating</th>\n",
       "      <th>duration</th>\n",
       "      <th>listed_in</th>\n",
       "      <th>description</th>\n",
       "    </tr>\n",
       "  </thead>\n",
       "  <tbody>\n",
       "    <tr>\n",
       "      <th>0</th>\n",
       "      <td>s1</td>\n",
       "      <td>Movie</td>\n",
       "      <td>Dick Johnson Is Dead</td>\n",
       "      <td>Kirsten Johnson</td>\n",
       "      <td>NaN</td>\n",
       "      <td>United States</td>\n",
       "      <td>September 25, 2021</td>\n",
       "      <td>2020</td>\n",
       "      <td>PG-13</td>\n",
       "      <td>90 min</td>\n",
       "      <td>Documentaries</td>\n",
       "      <td>As her father nears the end of his life, filmm...</td>\n",
       "    </tr>\n",
       "    <tr>\n",
       "      <th>1</th>\n",
       "      <td>s2</td>\n",
       "      <td>TV Show</td>\n",
       "      <td>Blood &amp; Water</td>\n",
       "      <td>NaN</td>\n",
       "      <td>Ama Qamata, Khosi Ngema, Gail Mabalane, Thaban...</td>\n",
       "      <td>South Africa</td>\n",
       "      <td>September 24, 2021</td>\n",
       "      <td>2021</td>\n",
       "      <td>TV-MA</td>\n",
       "      <td>2 Seasons</td>\n",
       "      <td>International TV Shows, TV Dramas, TV Mysteries</td>\n",
       "      <td>After crossing paths at a party, a Cape Town t...</td>\n",
       "    </tr>\n",
       "    <tr>\n",
       "      <th>2</th>\n",
       "      <td>s3</td>\n",
       "      <td>TV Show</td>\n",
       "      <td>Ganglands</td>\n",
       "      <td>Julien Leclercq</td>\n",
       "      <td>Sami Bouajila, Tracy Gotoas, Samuel Jouy, Nabi...</td>\n",
       "      <td>NaN</td>\n",
       "      <td>September 24, 2021</td>\n",
       "      <td>2021</td>\n",
       "      <td>TV-MA</td>\n",
       "      <td>1 Season</td>\n",
       "      <td>Crime TV Shows, International TV Shows, TV Act...</td>\n",
       "      <td>To protect his family from a powerful drug lor...</td>\n",
       "    </tr>\n",
       "    <tr>\n",
       "      <th>3</th>\n",
       "      <td>s4</td>\n",
       "      <td>TV Show</td>\n",
       "      <td>Jailbirds New Orleans</td>\n",
       "      <td>NaN</td>\n",
       "      <td>NaN</td>\n",
       "      <td>NaN</td>\n",
       "      <td>September 24, 2021</td>\n",
       "      <td>2021</td>\n",
       "      <td>TV-MA</td>\n",
       "      <td>1 Season</td>\n",
       "      <td>Docuseries, Reality TV</td>\n",
       "      <td>Feuds, flirtations and toilet talk go down amo...</td>\n",
       "    </tr>\n",
       "    <tr>\n",
       "      <th>4</th>\n",
       "      <td>s5</td>\n",
       "      <td>TV Show</td>\n",
       "      <td>Kota Factory</td>\n",
       "      <td>NaN</td>\n",
       "      <td>Mayur More, Jitendra Kumar, Ranjan Raj, Alam K...</td>\n",
       "      <td>India</td>\n",
       "      <td>September 24, 2021</td>\n",
       "      <td>2021</td>\n",
       "      <td>TV-MA</td>\n",
       "      <td>2 Seasons</td>\n",
       "      <td>International TV Shows, Romantic TV Shows, TV ...</td>\n",
       "      <td>In a city of coaching centers known to train I...</td>\n",
       "    </tr>\n",
       "  </tbody>\n",
       "</table>\n",
       "</div>"
      ],
      "text/plain": [
       "  show_id     type                  title         director  \\\n",
       "0      s1    Movie   Dick Johnson Is Dead  Kirsten Johnson   \n",
       "1      s2  TV Show          Blood & Water              NaN   \n",
       "2      s3  TV Show              Ganglands  Julien Leclercq   \n",
       "3      s4  TV Show  Jailbirds New Orleans              NaN   \n",
       "4      s5  TV Show           Kota Factory              NaN   \n",
       "\n",
       "                                                cast        country  \\\n",
       "0                                                NaN  United States   \n",
       "1  Ama Qamata, Khosi Ngema, Gail Mabalane, Thaban...   South Africa   \n",
       "2  Sami Bouajila, Tracy Gotoas, Samuel Jouy, Nabi...            NaN   \n",
       "3                                                NaN            NaN   \n",
       "4  Mayur More, Jitendra Kumar, Ranjan Raj, Alam K...          India   \n",
       "\n",
       "           date_added  release_year rating   duration  \\\n",
       "0  September 25, 2021          2020  PG-13     90 min   \n",
       "1  September 24, 2021          2021  TV-MA  2 Seasons   \n",
       "2  September 24, 2021          2021  TV-MA   1 Season   \n",
       "3  September 24, 2021          2021  TV-MA   1 Season   \n",
       "4  September 24, 2021          2021  TV-MA  2 Seasons   \n",
       "\n",
       "                                           listed_in  \\\n",
       "0                                      Documentaries   \n",
       "1    International TV Shows, TV Dramas, TV Mysteries   \n",
       "2  Crime TV Shows, International TV Shows, TV Act...   \n",
       "3                             Docuseries, Reality TV   \n",
       "4  International TV Shows, Romantic TV Shows, TV ...   \n",
       "\n",
       "                                         description  \n",
       "0  As her father nears the end of his life, filmm...  \n",
       "1  After crossing paths at a party, a Cape Town t...  \n",
       "2  To protect his family from a powerful drug lor...  \n",
       "3  Feuds, flirtations and toilet talk go down amo...  \n",
       "4  In a city of coaching centers known to train I...  "
      ]
     },
     "execution_count": 2,
     "metadata": {},
     "output_type": "execute_result"
    }
   ],
   "source": [
    "import pandas as pd\n",
    "\n",
    "# Load the CSV file\n",
    "df = pd.read_csv(\"netflix_titles.csv\")\n",
    "\n",
    "# Show first few rows\n",
    "df.head()\n"
   ]
  },
  {
   "cell_type": "code",
   "execution_count": 3,
   "id": "e07d4bf0",
   "metadata": {},
   "outputs": [
    {
     "name": "stdout",
     "output_type": "stream",
     "text": [
      "<class 'pandas.core.frame.DataFrame'>\n",
      "RangeIndex: 8807 entries, 0 to 8806\n",
      "Data columns (total 12 columns):\n",
      " #   Column        Non-Null Count  Dtype \n",
      "---  ------        --------------  ----- \n",
      " 0   show_id       8807 non-null   object\n",
      " 1   type          8807 non-null   object\n",
      " 2   title         8807 non-null   object\n",
      " 3   director      6173 non-null   object\n",
      " 4   cast          7982 non-null   object\n",
      " 5   country       7976 non-null   object\n",
      " 6   date_added    8797 non-null   object\n",
      " 7   release_year  8807 non-null   int64 \n",
      " 8   rating        8803 non-null   object\n",
      " 9   duration      8804 non-null   object\n",
      " 10  listed_in     8807 non-null   object\n",
      " 11  description   8807 non-null   object\n",
      "dtypes: int64(1), object(11)\n",
      "memory usage: 825.8+ KB\n"
     ]
    }
   ],
   "source": [
    "df.info()"
   ]
  },
  {
   "cell_type": "code",
   "execution_count": 4,
   "id": "150a88cc",
   "metadata": {},
   "outputs": [
    {
     "data": {
      "application/vnd.microsoft.datawrangler.viewer.v0+json": {
       "columns": [
        {
         "name": "index",
         "rawType": "object",
         "type": "string"
        },
        {
         "name": "show_id",
         "rawType": "object",
         "type": "unknown"
        },
        {
         "name": "type",
         "rawType": "object",
         "type": "unknown"
        },
        {
         "name": "title",
         "rawType": "object",
         "type": "unknown"
        },
        {
         "name": "director",
         "rawType": "object",
         "type": "unknown"
        },
        {
         "name": "cast",
         "rawType": "object",
         "type": "unknown"
        },
        {
         "name": "country",
         "rawType": "object",
         "type": "unknown"
        },
        {
         "name": "date_added",
         "rawType": "object",
         "type": "unknown"
        },
        {
         "name": "release_year",
         "rawType": "float64",
         "type": "float"
        },
        {
         "name": "rating",
         "rawType": "object",
         "type": "unknown"
        },
        {
         "name": "duration",
         "rawType": "object",
         "type": "unknown"
        },
        {
         "name": "listed_in",
         "rawType": "object",
         "type": "unknown"
        },
        {
         "name": "description",
         "rawType": "object",
         "type": "unknown"
        }
       ],
       "ref": "1d0d9064-1811-47fb-a977-a41e9ee56f5c",
       "rows": [
        [
         "count",
         "8807",
         "8807",
         "8807",
         "6173",
         "7982",
         "7976",
         "8797",
         "8807.0",
         "8803",
         "8804",
         "8807",
         "8807"
        ],
        [
         "unique",
         "8807",
         "2",
         "8807",
         "4528",
         "7692",
         "748",
         "1767",
         null,
         "17",
         "220",
         "514",
         "8775"
        ],
        [
         "top",
         "s8807",
         "Movie",
         "Zubaan",
         "Rajiv Chilaka",
         "David Attenborough",
         "United States",
         "January 1, 2020",
         null,
         "TV-MA",
         "1 Season",
         "Dramas, International Movies",
         "Paranormal activity at a lush, abandoned property alarms a group eager to redevelop the site, but the eerie events may not be as unearthly as they think."
        ],
        [
         "freq",
         "1",
         "6131",
         "1",
         "19",
         "19",
         "2818",
         "109",
         null,
         "3207",
         "1793",
         "362",
         "4"
        ],
        [
         "mean",
         null,
         null,
         null,
         null,
         null,
         null,
         null,
         "2014.1801975701146",
         null,
         null,
         null,
         null
        ],
        [
         "std",
         null,
         null,
         null,
         null,
         null,
         null,
         null,
         "8.819312130833966",
         null,
         null,
         null,
         null
        ],
        [
         "min",
         null,
         null,
         null,
         null,
         null,
         null,
         null,
         "1925.0",
         null,
         null,
         null,
         null
        ],
        [
         "25%",
         null,
         null,
         null,
         null,
         null,
         null,
         null,
         "2013.0",
         null,
         null,
         null,
         null
        ],
        [
         "50%",
         null,
         null,
         null,
         null,
         null,
         null,
         null,
         "2017.0",
         null,
         null,
         null,
         null
        ],
        [
         "75%",
         null,
         null,
         null,
         null,
         null,
         null,
         null,
         "2019.0",
         null,
         null,
         null,
         null
        ],
        [
         "max",
         null,
         null,
         null,
         null,
         null,
         null,
         null,
         "2021.0",
         null,
         null,
         null,
         null
        ]
       ],
       "shape": {
        "columns": 12,
        "rows": 11
       }
      },
      "text/html": [
       "<div>\n",
       "<style scoped>\n",
       "    .dataframe tbody tr th:only-of-type {\n",
       "        vertical-align: middle;\n",
       "    }\n",
       "\n",
       "    .dataframe tbody tr th {\n",
       "        vertical-align: top;\n",
       "    }\n",
       "\n",
       "    .dataframe thead th {\n",
       "        text-align: right;\n",
       "    }\n",
       "</style>\n",
       "<table border=\"1\" class=\"dataframe\">\n",
       "  <thead>\n",
       "    <tr style=\"text-align: right;\">\n",
       "      <th></th>\n",
       "      <th>show_id</th>\n",
       "      <th>type</th>\n",
       "      <th>title</th>\n",
       "      <th>director</th>\n",
       "      <th>cast</th>\n",
       "      <th>country</th>\n",
       "      <th>date_added</th>\n",
       "      <th>release_year</th>\n",
       "      <th>rating</th>\n",
       "      <th>duration</th>\n",
       "      <th>listed_in</th>\n",
       "      <th>description</th>\n",
       "    </tr>\n",
       "  </thead>\n",
       "  <tbody>\n",
       "    <tr>\n",
       "      <th>count</th>\n",
       "      <td>8807</td>\n",
       "      <td>8807</td>\n",
       "      <td>8807</td>\n",
       "      <td>6173</td>\n",
       "      <td>7982</td>\n",
       "      <td>7976</td>\n",
       "      <td>8797</td>\n",
       "      <td>8807.000000</td>\n",
       "      <td>8803</td>\n",
       "      <td>8804</td>\n",
       "      <td>8807</td>\n",
       "      <td>8807</td>\n",
       "    </tr>\n",
       "    <tr>\n",
       "      <th>unique</th>\n",
       "      <td>8807</td>\n",
       "      <td>2</td>\n",
       "      <td>8807</td>\n",
       "      <td>4528</td>\n",
       "      <td>7692</td>\n",
       "      <td>748</td>\n",
       "      <td>1767</td>\n",
       "      <td>NaN</td>\n",
       "      <td>17</td>\n",
       "      <td>220</td>\n",
       "      <td>514</td>\n",
       "      <td>8775</td>\n",
       "    </tr>\n",
       "    <tr>\n",
       "      <th>top</th>\n",
       "      <td>s8807</td>\n",
       "      <td>Movie</td>\n",
       "      <td>Zubaan</td>\n",
       "      <td>Rajiv Chilaka</td>\n",
       "      <td>David Attenborough</td>\n",
       "      <td>United States</td>\n",
       "      <td>January 1, 2020</td>\n",
       "      <td>NaN</td>\n",
       "      <td>TV-MA</td>\n",
       "      <td>1 Season</td>\n",
       "      <td>Dramas, International Movies</td>\n",
       "      <td>Paranormal activity at a lush, abandoned prope...</td>\n",
       "    </tr>\n",
       "    <tr>\n",
       "      <th>freq</th>\n",
       "      <td>1</td>\n",
       "      <td>6131</td>\n",
       "      <td>1</td>\n",
       "      <td>19</td>\n",
       "      <td>19</td>\n",
       "      <td>2818</td>\n",
       "      <td>109</td>\n",
       "      <td>NaN</td>\n",
       "      <td>3207</td>\n",
       "      <td>1793</td>\n",
       "      <td>362</td>\n",
       "      <td>4</td>\n",
       "    </tr>\n",
       "    <tr>\n",
       "      <th>mean</th>\n",
       "      <td>NaN</td>\n",
       "      <td>NaN</td>\n",
       "      <td>NaN</td>\n",
       "      <td>NaN</td>\n",
       "      <td>NaN</td>\n",
       "      <td>NaN</td>\n",
       "      <td>NaN</td>\n",
       "      <td>2014.180198</td>\n",
       "      <td>NaN</td>\n",
       "      <td>NaN</td>\n",
       "      <td>NaN</td>\n",
       "      <td>NaN</td>\n",
       "    </tr>\n",
       "    <tr>\n",
       "      <th>std</th>\n",
       "      <td>NaN</td>\n",
       "      <td>NaN</td>\n",
       "      <td>NaN</td>\n",
       "      <td>NaN</td>\n",
       "      <td>NaN</td>\n",
       "      <td>NaN</td>\n",
       "      <td>NaN</td>\n",
       "      <td>8.819312</td>\n",
       "      <td>NaN</td>\n",
       "      <td>NaN</td>\n",
       "      <td>NaN</td>\n",
       "      <td>NaN</td>\n",
       "    </tr>\n",
       "    <tr>\n",
       "      <th>min</th>\n",
       "      <td>NaN</td>\n",
       "      <td>NaN</td>\n",
       "      <td>NaN</td>\n",
       "      <td>NaN</td>\n",
       "      <td>NaN</td>\n",
       "      <td>NaN</td>\n",
       "      <td>NaN</td>\n",
       "      <td>1925.000000</td>\n",
       "      <td>NaN</td>\n",
       "      <td>NaN</td>\n",
       "      <td>NaN</td>\n",
       "      <td>NaN</td>\n",
       "    </tr>\n",
       "    <tr>\n",
       "      <th>25%</th>\n",
       "      <td>NaN</td>\n",
       "      <td>NaN</td>\n",
       "      <td>NaN</td>\n",
       "      <td>NaN</td>\n",
       "      <td>NaN</td>\n",
       "      <td>NaN</td>\n",
       "      <td>NaN</td>\n",
       "      <td>2013.000000</td>\n",
       "      <td>NaN</td>\n",
       "      <td>NaN</td>\n",
       "      <td>NaN</td>\n",
       "      <td>NaN</td>\n",
       "    </tr>\n",
       "    <tr>\n",
       "      <th>50%</th>\n",
       "      <td>NaN</td>\n",
       "      <td>NaN</td>\n",
       "      <td>NaN</td>\n",
       "      <td>NaN</td>\n",
       "      <td>NaN</td>\n",
       "      <td>NaN</td>\n",
       "      <td>NaN</td>\n",
       "      <td>2017.000000</td>\n",
       "      <td>NaN</td>\n",
       "      <td>NaN</td>\n",
       "      <td>NaN</td>\n",
       "      <td>NaN</td>\n",
       "    </tr>\n",
       "    <tr>\n",
       "      <th>75%</th>\n",
       "      <td>NaN</td>\n",
       "      <td>NaN</td>\n",
       "      <td>NaN</td>\n",
       "      <td>NaN</td>\n",
       "      <td>NaN</td>\n",
       "      <td>NaN</td>\n",
       "      <td>NaN</td>\n",
       "      <td>2019.000000</td>\n",
       "      <td>NaN</td>\n",
       "      <td>NaN</td>\n",
       "      <td>NaN</td>\n",
       "      <td>NaN</td>\n",
       "    </tr>\n",
       "    <tr>\n",
       "      <th>max</th>\n",
       "      <td>NaN</td>\n",
       "      <td>NaN</td>\n",
       "      <td>NaN</td>\n",
       "      <td>NaN</td>\n",
       "      <td>NaN</td>\n",
       "      <td>NaN</td>\n",
       "      <td>NaN</td>\n",
       "      <td>2021.000000</td>\n",
       "      <td>NaN</td>\n",
       "      <td>NaN</td>\n",
       "      <td>NaN</td>\n",
       "      <td>NaN</td>\n",
       "    </tr>\n",
       "  </tbody>\n",
       "</table>\n",
       "</div>"
      ],
      "text/plain": [
       "       show_id   type   title       director                cast  \\\n",
       "count     8807   8807    8807           6173                7982   \n",
       "unique    8807      2    8807           4528                7692   \n",
       "top      s8807  Movie  Zubaan  Rajiv Chilaka  David Attenborough   \n",
       "freq         1   6131       1             19                  19   \n",
       "mean       NaN    NaN     NaN            NaN                 NaN   \n",
       "std        NaN    NaN     NaN            NaN                 NaN   \n",
       "min        NaN    NaN     NaN            NaN                 NaN   \n",
       "25%        NaN    NaN     NaN            NaN                 NaN   \n",
       "50%        NaN    NaN     NaN            NaN                 NaN   \n",
       "75%        NaN    NaN     NaN            NaN                 NaN   \n",
       "max        NaN    NaN     NaN            NaN                 NaN   \n",
       "\n",
       "              country       date_added  release_year rating  duration  \\\n",
       "count            7976             8797   8807.000000   8803      8804   \n",
       "unique            748             1767           NaN     17       220   \n",
       "top     United States  January 1, 2020           NaN  TV-MA  1 Season   \n",
       "freq             2818              109           NaN   3207      1793   \n",
       "mean              NaN              NaN   2014.180198    NaN       NaN   \n",
       "std               NaN              NaN      8.819312    NaN       NaN   \n",
       "min               NaN              NaN   1925.000000    NaN       NaN   \n",
       "25%               NaN              NaN   2013.000000    NaN       NaN   \n",
       "50%               NaN              NaN   2017.000000    NaN       NaN   \n",
       "75%               NaN              NaN   2019.000000    NaN       NaN   \n",
       "max               NaN              NaN   2021.000000    NaN       NaN   \n",
       "\n",
       "                           listed_in  \\\n",
       "count                           8807   \n",
       "unique                           514   \n",
       "top     Dramas, International Movies   \n",
       "freq                             362   \n",
       "mean                             NaN   \n",
       "std                              NaN   \n",
       "min                              NaN   \n",
       "25%                              NaN   \n",
       "50%                              NaN   \n",
       "75%                              NaN   \n",
       "max                              NaN   \n",
       "\n",
       "                                              description  \n",
       "count                                                8807  \n",
       "unique                                               8775  \n",
       "top     Paranormal activity at a lush, abandoned prope...  \n",
       "freq                                                    4  \n",
       "mean                                                  NaN  \n",
       "std                                                   NaN  \n",
       "min                                                   NaN  \n",
       "25%                                                   NaN  \n",
       "50%                                                   NaN  \n",
       "75%                                                   NaN  \n",
       "max                                                   NaN  "
      ]
     },
     "execution_count": 4,
     "metadata": {},
     "output_type": "execute_result"
    }
   ],
   "source": [
    "df.describe(include= 'all')"
   ]
  },
  {
   "cell_type": "code",
   "execution_count": 5,
   "id": "8c477303",
   "metadata": {},
   "outputs": [
    {
     "data": {
      "application/vnd.microsoft.datawrangler.viewer.v0+json": {
       "columns": [
        {
         "name": "index",
         "rawType": "object",
         "type": "string"
        },
        {
         "name": "0",
         "rawType": "int64",
         "type": "integer"
        }
       ],
       "ref": "b95c85fc-d414-4fe5-86d3-0f2b2f7282d3",
       "rows": [
        [
         "show_id",
         "0"
        ],
        [
         "type",
         "0"
        ],
        [
         "title",
         "0"
        ],
        [
         "director",
         "2634"
        ],
        [
         "cast",
         "825"
        ],
        [
         "country",
         "831"
        ],
        [
         "date_added",
         "10"
        ],
        [
         "release_year",
         "0"
        ],
        [
         "rating",
         "4"
        ],
        [
         "duration",
         "3"
        ],
        [
         "listed_in",
         "0"
        ],
        [
         "description",
         "0"
        ]
       ],
       "shape": {
        "columns": 1,
        "rows": 12
       }
      },
      "text/plain": [
       "show_id            0\n",
       "type               0\n",
       "title              0\n",
       "director        2634\n",
       "cast             825\n",
       "country          831\n",
       "date_added        10\n",
       "release_year       0\n",
       "rating             4\n",
       "duration           3\n",
       "listed_in          0\n",
       "description        0\n",
       "dtype: int64"
      ]
     },
     "execution_count": 5,
     "metadata": {},
     "output_type": "execute_result"
    }
   ],
   "source": [
    "df.isnull().sum()"
   ]
  },
  {
   "cell_type": "code",
   "execution_count": 6,
   "id": "10679749",
   "metadata": {},
   "outputs": [
    {
     "name": "stderr",
     "output_type": "stream",
     "text": [
      "C:\\Users\\chala\\AppData\\Local\\Temp\\ipykernel_22196\\3229486348.py:6: FutureWarning: \n",
      "\n",
      "Passing `palette` without assigning `hue` is deprecated and will be removed in v0.14.0. Assign the `x` variable to `hue` and set `legend=False` for the same effect.\n",
      "\n",
      "  sns.countplot(\n"
     ]
    },
    {
     "data": {
      "image/png": "[encoded data removed]",
      "text/plain": [
       "<Figure size 640x480 with 1 Axes>"
      ]
     },
     "metadata": {},
     "output_type": "display_data"
    }
   ],
   "source": [
    "# Import Seaborn and Matplotlib — two main libraries for plotting in Python\n",
    "import seaborn as sns\n",
    "import matplotlib.pyplot as plt\n",
    "\n",
    "# Create a countplot to show how many 'Movie' and 'TV Show' entries are in the dataset\n",
    "sns.countplot(\n",
    "    data=df,           # Our DataFrame\n",
    "    x='type',          # Column to plot on the X-axis (either 'Movie' or 'TV Show')\n",
    "    palette='Set2'     # Color scheme for the bars (Set2 is a soft, distinct color set)\n",
    ")\n",
    "\n",
    "# Set the chart title\n",
    "plt.title(\"Count of Movies vs TV Shows\")\n",
    "\n",
    "# Label the X-axis\n",
    "plt.xlabel(\"Type\")\n",
    "\n",
    "# Label the Y-axis\n",
    "plt.ylabel(\"Count\")\n",
    "\n",
    "# Display the plot\n",
    "plt.show()\n"
   ]
  },
  {
   "cell_type": "code",
   "execution_count": 7,
   "id": "0a62bf3f",
   "metadata": {},
   "outputs": [
    {
     "name": "stderr",
     "output_type": "stream",
     "text": [
      "C:\\Users\\chala\\AppData\\Local\\Temp\\ipykernel_22196\\3344346720.py:8: FutureWarning: \n",
      "\n",
      "Passing `palette` without assigning `hue` is deprecated and will be removed in v0.14.0. Assign the `y` variable to `hue` and set `legend=False` for the same effect.\n",
      "\n",
      "  sns.barplot(\n"
     ]
    },
    {
     "data": {
      "image/png": "[encoded data removed]",
      "text/plain": [
       "<Figure size 640x480 with 1 Axes>"
      ]
     },
     "metadata": {},
     "output_type": "display_data"
    }
   ],
   "source": [
    "# Get top 10 countries by number of titles\n",
    "top_countries = df['country'].value_counts().dropna().head(10) #.dropna() ➡️ Removes entries where country was missing (NaN) and head(10) takes top 10 \n",
    "\n",
    "# Plot using Seaborn barplot\n",
    "import seaborn as sns\n",
    "import matplotlib.pyplot as plt\n",
    "\n",
    "sns.barplot(\n",
    "    x=top_countries.values,    # Number of titles (count)\n",
    "    y=top_countries.index,     # Country names\n",
    "    palette='coolwarm'         # Color palette for visual appeal\n",
    ")\n",
    "\n",
    "plt.title(\"Top 10 Countries by Number of Titles\")  # Chart title\n",
    "plt.xlabel(\"Number of Titles\")                     # X-axis label\n",
    "plt.ylabel(\"Country\")                              # Y-axis label\n",
    "plt.show()\n"
   ]
  },
  {
   "cell_type": "code",
   "execution_count": 8,
   "id": "6af87ef0",
   "metadata": {},
   "outputs": [
    {
     "data": {
      "image/png": "[encoded data removed]",
      "text/plain": [
       "<Figure size 640x480 with 1 Axes>"
      ]
     },
     "metadata": {},
     "output_type": "display_data"
    }
   ],
   "source": [
    "import seaborn as sns\n",
    "import matplotlib.pyplot as plt\n",
    "\n",
    "# Plot number of titles released each year\n",
    "sns.histplot(\n",
    "    data=df,                # Use our Netflix DataFrame\n",
    "    x='release_year',       # Year of release on X-axis\n",
    "    bins=30,                # Group years into 30 buckets\n",
    "    kde=False,              # No density curve, just bars\n",
    "    color='teal'            # Bar color\n",
    ")\n",
    "\n",
    "plt.title(\"Netflix Content Release Trend Over the Years\")  # Title of the plot\n",
    "plt.xlabel(\"Release Year\")                                 # Label X-axis\n",
    "plt.ylabel(\"Number of Titles\")                             # Label Y-axis\n",
    "plt.show()\n"
   ]
  },
  {
   "cell_type": "code",
   "execution_count": 9,
   "id": "7d63fd7b",
   "metadata": {},
   "outputs": [
    {
     "name": "stderr",
     "output_type": "stream",
     "text": [
      "C:\\Users\\chala\\AppData\\Local\\Temp\\ipykernel_22196\\3514196999.py:5: FutureWarning: \n",
      "\n",
      "Passing `palette` without assigning `hue` is deprecated and will be removed in v0.14.0. Assign the `y` variable to `hue` and set `legend=False` for the same effect.\n",
      "\n",
      "  sns.countplot(\n"
     ]
    },
    {
     "data": {
      "image/png": "[encoded data removed]",
      "text/plain": [
       "<Figure size 640x480 with 1 Axes>"
      ]
     },
     "metadata": {},
     "output_type": "display_data"
    },
    {
     "data": {
      "text/plain": [
       "'Notice these weird entries:\\n\\n\"74 min\", \"84 min\", \"66 min\" ⛔\\n➤ These are not ratings — they accidentally ended up in the rating column.\\n\\nLikely due to data entry error where a value meant for duration got shifted into the wrong column.'"
      ]
     },
     "execution_count": 9,
     "metadata": {},
     "output_type": "execute_result"
    }
   ],
   "source": [
    "import seaborn as sns\n",
    "import matplotlib.pyplot as plt\n",
    "\n",
    "# Create a countplot for 'rating' to show how many titles exist for each rating category\n",
    "sns.countplot(\n",
    "    data=df,                                         # Netflix DataFrame\n",
    "    y='rating',                                      # Rating on Y-axis (for a clean horizontal view)\n",
    "    order=df['rating'].value_counts().index,         # Sort ratings by frequency\n",
    "    palette='plasma'                                 # Visually distinct color scheme\n",
    ")\n",
    "\n",
    "plt.title(\"Distribution of Netflix Ratings\")         # Chart title\n",
    "plt.xlabel(\"Number of Titles\")                       # X-axis label\n",
    "plt.ylabel(\"Rating Category\")                        # Y-axis label\n",
    "plt.show()\n",
    "\n",
    "'''Notice these weird entries:\n",
    "\n",
    "\"74 min\", \"84 min\", \"66 min\" ⛔\n",
    "➤ These are not ratings — they accidentally ended up in the rating column.\n",
    "\n",
    "Likely due to data entry error where a value meant for duration got shifted into the wrong column.'''\n"
   ]
  },
  {
   "cell_type": "code",
   "execution_count": 10,
   "id": "6ff6c1e6",
   "metadata": {},
   "outputs": [
    {
     "data": {
      "image/png": "[encoded data removed]",
      "text/plain": [
       "<Figure size 640x480 with 1 Axes>"
      ]
     },
     "metadata": {},
     "output_type": "display_data"
    }
   ],
   "source": [
    "# Plot top 10 most common genres\n",
    "df['listed_in'].str.split(', ').explode().value_counts().head(10).plot(kind='barh')\n",
    "plt.title(\"Top 10 Most Common Netflix Genres\")\n",
    "plt.xlabel(\"Number of Titles\")\n",
    "plt.ylabel(\"Genre\")\n",
    "plt.show()\n",
    "\n",
    "# here bar automatically makes a horizontal bar :- hence name on y and values on x axis\n"
   ]
  },
  {
   "cell_type": "markdown",
   "id": "f867b821",
   "metadata": {},
   "source": [
    "## Phase 2: Data Cleaning + Feature Engineering  \n",
    "\n",
    "###  **Goal:**  \n",
    "Prepare a **clean, consistent, and ML-ready dataset** by fixing errors, handling missing values, encoding categorical features, and creating new useful columns.  \n",
    "\n",
    "---\n",
    "\n",
    "### **Tasks Overview**\n",
    "\n",
    "1. **Handle Missing Values**  \n",
    "   - Check which columns have missing (`NaN`) entries using `df.isnull().sum()`.  \n",
    "   - Decide per column:  \n",
    "     - Drop if not important (e.g., `director`, `cast`).  \n",
    "     - Fill (impute) with “Unknown” or most frequent value if important.  \n",
    "\n",
    "2. **Fix Incorrect Entries**  \n",
    "   - Some ratings (like `\"74 min\"`, `\"84 min\"`) are actually *durations* accidentally placed in the `rating` column.  \n",
    "   - Identify and correct or remove these records.  \n",
    "\n",
    "3. **Convert Duration into Numeric**  \n",
    "   - For Movies: `\"90 min\"` → `90`.  \n",
    "   - For TV Shows: `\"2 Seasons\"` → `2`.  \n",
    "   - Store them in a new column like `duration_num`.  \n",
    "\n",
    "4. **Encode Categorical Features**  \n",
    "   - Convert text categories into numbers so ML models can use them.  \n",
    "   - Examples:  \n",
    "     - `type` → Movie (1), TV Show (0)  \n",
    "     - `rating` → LabelEncoder or OneHotEncoder  \n",
    "     - `country` → Encode top 10 countries only to reduce noise  \n",
    "\n",
    "5. **Feature Engineering**  \n",
    "   Create new columns that can improve predictions:  \n",
    "   - `decade` → from `release_year` (e.g., 1990s, 2000s, 2010s)  \n",
    "   - `is_movie` → binary flag for type  \n",
    "   - `genre_count` → number of genres a title has (`listed_in`)  \n",
    "   - `description_length` → number of words in the description  \n",
    "\n",
    "6. **Text Cleaning for TF-IDF (Future Phase 4)**  \n",
    "   - Clean and store a text column (from `description`) for future recommendation system:  \n",
    "     - Lowercase, remove punctuation, numbers, stopwords  \n",
    "     - Lemmatize if using `nltk`  \n",
    "\n",
    "7. **Final Clean DataFrame Export**  \n",
    "   - Save your processed dataset as `netflix_cleaned.csv` for modeling and TF-IDF use.  \n",
    "\n",
    "---\n",
    "\n",
    "### **Expected Output**\n",
    "A clean dataset with:  \n",
    "- No missing or misplaced values  \n",
    "- Numeric columns for ML models  \n",
    "- Engineered features ready for Phase 3  \n",
    "- Clean text column ready for TF-IDF  \n",
    "\n",
    "---\n",
    "\n",
    "### **Skills Practiced**\n",
    "- Data preprocessing  \n",
    "- Feature engineering  \n",
    "- Text preprocessing basics  \n",
    "- Encoding techniques  \n"
   ]
  },
  {
   "cell_type": "code",
   "execution_count": 11,
   "id": "655289e0",
   "metadata": {},
   "outputs": [
    {
     "name": "stdout",
     "output_type": "stream",
     "text": [
      "show_id            0\n",
      "type               0\n",
      "title              0\n",
      "director        2634\n",
      "cast             825\n",
      "country          831\n",
      "date_added        10\n",
      "release_year       0\n",
      "rating             4\n",
      "duration           3\n",
      "listed_in          0\n",
      "description        0\n",
      "dtype: int64\n",
      "['PG-13' 'TV-MA' 'PG' 'TV-14' 'TV-PG' 'TV-Y' 'TV-Y7' 'R' 'TV-G' 'G'\n",
      " 'NC-17' '74 min' '84 min' '66 min' 'NR' nan 'TV-Y7-FV' 'UR']\n",
      "show_id         0\n",
      "type            0\n",
      "title           0\n",
      "director        0\n",
      "cast            0\n",
      "country         0\n",
      "date_added      0\n",
      "release_year    0\n",
      "rating          0\n",
      "duration        0\n",
      "listed_in       0\n",
      "description     0\n",
      "dtype: int64\n"
     ]
    },
    {
     "name": "stderr",
     "output_type": "stream",
     "text": [
      "C:\\Users\\chala\\AppData\\Local\\Temp\\ipykernel_22196\\4191353406.py:16: FutureWarning: A value is trying to be set on a copy of a DataFrame or Series through chained assignment using an inplace method.\n",
      "The behavior will change in pandas 3.0. This inplace method will never work because the intermediate object on which we are setting values always behaves as a copy.\n",
      "\n",
      "For example, when doing 'df[col].method(value, inplace=True)', try using 'df.method({col: value}, inplace=True)' or df[col] = df[col].method(value) instead, to perform the operation inplace on the original object.\n",
      "\n",
      "\n",
      "  df['director'].fillna('Unknown', inplace=True)\n",
      "C:\\Users\\chala\\AppData\\Local\\Temp\\ipykernel_22196\\4191353406.py:17: FutureWarning: A value is trying to be set on a copy of a DataFrame or Series through chained assignment using an inplace method.\n",
      "The behavior will change in pandas 3.0. This inplace method will never work because the intermediate object on which we are setting values always behaves as a copy.\n",
      "\n",
      "For example, when doing 'df[col].method(value, inplace=True)', try using 'df.method({col: value}, inplace=True)' or df[col] = df[col].method(value) instead, to perform the operation inplace on the original object.\n",
      "\n",
      "\n",
      "  df['cast'].fillna('Unknown', inplace=True)\n",
      "C:\\Users\\chala\\AppData\\Local\\Temp\\ipykernel_22196\\4191353406.py:18: FutureWarning: A value is trying to be set on a copy of a DataFrame or Series through chained assignment using an inplace method.\n",
      "The behavior will change in pandas 3.0. This inplace method will never work because the intermediate object on which we are setting values always behaves as a copy.\n",
      "\n",
      "For example, when doing 'df[col].method(value, inplace=True)', try using 'df.method({col: value}, inplace=True)' or df[col] = df[col].method(value) instead, to perform the operation inplace on the original object.\n",
      "\n",
      "\n",
      "  df['country'].fillna('Unknown', inplace=True)\n",
      "C:\\Users\\chala\\AppData\\Local\\Temp\\ipykernel_22196\\4191353406.py:19: FutureWarning: A value is trying to be set on a copy of a DataFrame or Series through chained assignment using an inplace method.\n",
      "The behavior will change in pandas 3.0. This inplace method will never work because the intermediate object on which we are setting values always behaves as a copy.\n",
      "\n",
      "For example, when doing 'df[col].method(value, inplace=True)', try using 'df.method({col: value}, inplace=True)' or df[col] = df[col].method(value) instead, to perform the operation inplace on the original object.\n",
      "\n",
      "\n",
      "  df['rating'].fillna('Unknown', inplace=True)\n",
      "C:\\Users\\chala\\AppData\\Local\\Temp\\ipykernel_22196\\4191353406.py:22: FutureWarning: A value is trying to be set on a copy of a DataFrame or Series through chained assignment using an inplace method.\n",
      "The behavior will change in pandas 3.0. This inplace method will never work because the intermediate object on which we are setting values always behaves as a copy.\n",
      "\n",
      "For example, when doing 'df[col].method(value, inplace=True)', try using 'df.method({col: value}, inplace=True)' or df[col] = df[col].method(value) instead, to perform the operation inplace on the original object.\n",
      "\n",
      "\n",
      "  df['date_added'].fillna(df['date_added'].mode()[0], inplace=True)\n"
     ]
    }
   ],
   "source": [
    "import pandas as pd\n",
    "\n",
    "# Load dataset again if not already loaded\n",
    "df = pd.read_csv(\"netflix_titles.csv\")\n",
    "\n",
    "# Show how many values are missing in each column\n",
    "print(df.isnull().sum())\n",
    "\n",
    "# Check unique values in 'rating' column to find errors like '74 min'\n",
    "print(df['rating'].unique())\n",
    "\n",
    "# Remove rows where rating contains numbers like '74 min', '84 min', etc.\n",
    "df = df[~df['rating'].str.contains('min', na=False)]\n",
    "\n",
    "# Fill missing values for 'director', 'cast','rating' and 'country' with 'Unknown'\n",
    "df['director'].fillna('Unknown', inplace=True)\n",
    "df['cast'].fillna('Unknown', inplace=True)\n",
    "df['country'].fillna('Unknown', inplace=True)\n",
    "df['rating'].fillna('Unknown', inplace=True)\n",
    "\n",
    "# Fill missing values for 'date_added' with the mode (most common date)\n",
    "df['date_added'].fillna(df['date_added'].mode()[0], inplace=True)\n",
    "\n",
    "# Check again if all missing values are handled\n",
    "print(df.isnull().sum())\n"
   ]
  },
  {
   "cell_type": "code",
   "execution_count": 12,
   "id": "15c17cf4",
   "metadata": {},
   "outputs": [
    {
     "data": {
      "application/vnd.microsoft.datawrangler.viewer.v0+json": {
       "columns": [
        {
         "name": "index",
         "rawType": "int64",
         "type": "integer"
        },
        {
         "name": "duration",
         "rawType": "object",
         "type": "string"
        },
        {
         "name": "duration_num",
         "rawType": "int64",
         "type": "integer"
        }
       ],
       "ref": "6ef2f8b4-2fe4-45f2-a26f-9069c9be4e36",
       "rows": [
        [
         "0",
         "90 min",
         "90"
        ],
        [
         "1",
         "2 Seasons",
         "2"
        ],
        [
         "2",
         "1 Season",
         "1"
        ],
        [
         "3",
         "1 Season",
         "1"
        ],
        [
         "4",
         "2 Seasons",
         "2"
        ],
        [
         "5",
         "1 Season",
         "1"
        ],
        [
         "6",
         "91 min",
         "91"
        ],
        [
         "7",
         "125 min",
         "125"
        ],
        [
         "8",
         "9 Seasons",
         "9"
        ],
        [
         "9",
         "104 min",
         "104"
        ]
       ],
       "shape": {
        "columns": 2,
        "rows": 10
       }
      },
      "text/html": [
       "<div>\n",
       "<style scoped>\n",
       "    .dataframe tbody tr th:only-of-type {\n",
       "        vertical-align: middle;\n",
       "    }\n",
       "\n",
       "    .dataframe tbody tr th {\n",
       "        vertical-align: top;\n",
       "    }\n",
       "\n",
       "    .dataframe thead th {\n",
       "        text-align: right;\n",
       "    }\n",
       "</style>\n",
       "<table border=\"1\" class=\"dataframe\">\n",
       "  <thead>\n",
       "    <tr style=\"text-align: right;\">\n",
       "      <th></th>\n",
       "      <th>duration</th>\n",
       "      <th>duration_num</th>\n",
       "    </tr>\n",
       "  </thead>\n",
       "  <tbody>\n",
       "    <tr>\n",
       "      <th>0</th>\n",
       "      <td>90 min</td>\n",
       "      <td>90</td>\n",
       "    </tr>\n",
       "    <tr>\n",
       "      <th>1</th>\n",
       "      <td>2 Seasons</td>\n",
       "      <td>2</td>\n",
       "    </tr>\n",
       "    <tr>\n",
       "      <th>2</th>\n",
       "      <td>1 Season</td>\n",
       "      <td>1</td>\n",
       "    </tr>\n",
       "    <tr>\n",
       "      <th>3</th>\n",
       "      <td>1 Season</td>\n",
       "      <td>1</td>\n",
       "    </tr>\n",
       "    <tr>\n",
       "      <th>4</th>\n",
       "      <td>2 Seasons</td>\n",
       "      <td>2</td>\n",
       "    </tr>\n",
       "    <tr>\n",
       "      <th>5</th>\n",
       "      <td>1 Season</td>\n",
       "      <td>1</td>\n",
       "    </tr>\n",
       "    <tr>\n",
       "      <th>6</th>\n",
       "      <td>91 min</td>\n",
       "      <td>91</td>\n",
       "    </tr>\n",
       "    <tr>\n",
       "      <th>7</th>\n",
       "      <td>125 min</td>\n",
       "      <td>125</td>\n",
       "    </tr>\n",
       "    <tr>\n",
       "      <th>8</th>\n",
       "      <td>9 Seasons</td>\n",
       "      <td>9</td>\n",
       "    </tr>\n",
       "    <tr>\n",
       "      <th>9</th>\n",
       "      <td>104 min</td>\n",
       "      <td>104</td>\n",
       "    </tr>\n",
       "  </tbody>\n",
       "</table>\n",
       "</div>"
      ],
      "text/plain": [
       "    duration  duration_num\n",
       "0     90 min            90\n",
       "1  2 Seasons             2\n",
       "2   1 Season             1\n",
       "3   1 Season             1\n",
       "4  2 Seasons             2\n",
       "5   1 Season             1\n",
       "6     91 min            91\n",
       "7    125 min           125\n",
       "8  9 Seasons             9\n",
       "9    104 min           104"
      ]
     },
     "execution_count": 12,
     "metadata": {},
     "output_type": "execute_result"
    }
   ],
   "source": [
    "# Function to extract numeric part from duration\n",
    "'''to remove the duration and mins part from 90mins and 2 seasons'''\n",
    "def convert_duration(x):\n",
    "    if pd.isnull(x):\n",
    "        return 0  # If empty, return 0\n",
    "    else:\n",
    "        return int(x.split()[0])  # Take the first part before space and convert to int\n",
    "\n",
    "# Apply function to the 'duration' column\n",
    "df['duration_num'] = df['duration'].apply(convert_duration)\n",
    "\n",
    "# Check the result\n",
    "df[['duration', 'duration_num']].head(10)\n"
   ]
  },
  {
   "cell_type": "code",
   "execution_count": 13,
   "id": "1b0793af",
   "metadata": {},
   "outputs": [
    {
     "data": {
      "application/vnd.microsoft.datawrangler.viewer.v0+json": {
       "columns": [
        {
         "name": "index",
         "rawType": "int64",
         "type": "integer"
        },
        {
         "name": "type",
         "rawType": "object",
         "type": "string"
        },
        {
         "name": "is_movie",
         "rawType": "int64",
         "type": "integer"
        },
        {
         "name": "rating",
         "rawType": "object",
         "type": "string"
        },
        {
         "name": "rating_encoded",
         "rawType": "int64",
         "type": "integer"
        },
        {
         "name": "country",
         "rawType": "object",
         "type": "string"
        },
        {
         "name": "country_encoded",
         "rawType": "int64",
         "type": "integer"
        }
       ],
       "ref": "ba996a24-5623-43df-8586-95be3998ca62",
       "rows": [
        [
         "0",
         "Movie",
         "1",
         "PG-13",
         "4",
         "United States",
         "9"
        ],
        [
         "1",
         "TV Show",
         "0",
         "TV-MA",
         "8",
         "South Africa",
         "5"
        ],
        [
         "2",
         "TV Show",
         "0",
         "TV-MA",
         "8",
         "Unknown",
         "10"
        ],
        [
         "3",
         "TV Show",
         "0",
         "TV-MA",
         "8",
         "Unknown",
         "10"
        ],
        [
         "4",
         "TV Show",
         "0",
         "TV-MA",
         "8",
         "India",
         "2"
        ],
        [
         "5",
         "TV Show",
         "0",
         "TV-MA",
         "8",
         "Unknown",
         "10"
        ],
        [
         "6",
         "Movie",
         "1",
         "PG",
         "3",
         "Unknown",
         "10"
        ],
        [
         "7",
         "Movie",
         "1",
         "TV-MA",
         "8",
         "United States, Ghana, Burkina Faso, United Kingdom, Germany, Ethiopia",
         "5"
        ],
        [
         "8",
         "TV Show",
         "0",
         "TV-14",
         "6",
         "United Kingdom",
         "8"
        ],
        [
         "9",
         "Movie",
         "1",
         "PG-13",
         "4",
         "United States",
         "9"
        ]
       ],
       "shape": {
        "columns": 6,
        "rows": 10
       }
      },
      "text/html": [
       "<div>\n",
       "<style scoped>\n",
       "    .dataframe tbody tr th:only-of-type {\n",
       "        vertical-align: middle;\n",
       "    }\n",
       "\n",
       "    .dataframe tbody tr th {\n",
       "        vertical-align: top;\n",
       "    }\n",
       "\n",
       "    .dataframe thead th {\n",
       "        text-align: right;\n",
       "    }\n",
       "</style>\n",
       "<table border=\"1\" class=\"dataframe\">\n",
       "  <thead>\n",
       "    <tr style=\"text-align: right;\">\n",
       "      <th></th>\n",
       "      <th>type</th>\n",
       "      <th>is_movie</th>\n",
       "      <th>rating</th>\n",
       "      <th>rating_encoded</th>\n",
       "      <th>country</th>\n",
       "      <th>country_encoded</th>\n",
       "    </tr>\n",
       "  </thead>\n",
       "  <tbody>\n",
       "    <tr>\n",
       "      <th>0</th>\n",
       "      <td>Movie</td>\n",
       "      <td>1</td>\n",
       "      <td>PG-13</td>\n",
       "      <td>4</td>\n",
       "      <td>United States</td>\n",
       "      <td>9</td>\n",
       "    </tr>\n",
       "    <tr>\n",
       "      <th>1</th>\n",
       "      <td>TV Show</td>\n",
       "      <td>0</td>\n",
       "      <td>TV-MA</td>\n",
       "      <td>8</td>\n",
       "      <td>South Africa</td>\n",
       "      <td>5</td>\n",
       "    </tr>\n",
       "    <tr>\n",
       "      <th>2</th>\n",
       "      <td>TV Show</td>\n",
       "      <td>0</td>\n",
       "      <td>TV-MA</td>\n",
       "      <td>8</td>\n",
       "      <td>Unknown</td>\n",
       "      <td>10</td>\n",
       "    </tr>\n",
       "    <tr>\n",
       "      <th>3</th>\n",
       "      <td>TV Show</td>\n",
       "      <td>0</td>\n",
       "      <td>TV-MA</td>\n",
       "      <td>8</td>\n",
       "      <td>Unknown</td>\n",
       "      <td>10</td>\n",
       "    </tr>\n",
       "    <tr>\n",
       "      <th>4</th>\n",
       "      <td>TV Show</td>\n",
       "      <td>0</td>\n",
       "      <td>TV-MA</td>\n",
       "      <td>8</td>\n",
       "      <td>India</td>\n",
       "      <td>2</td>\n",
       "    </tr>\n",
       "    <tr>\n",
       "      <th>5</th>\n",
       "      <td>TV Show</td>\n",
       "      <td>0</td>\n",
       "      <td>TV-MA</td>\n",
       "      <td>8</td>\n",
       "      <td>Unknown</td>\n",
       "      <td>10</td>\n",
       "    </tr>\n",
       "    <tr>\n",
       "      <th>6</th>\n",
       "      <td>Movie</td>\n",
       "      <td>1</td>\n",
       "      <td>PG</td>\n",
       "      <td>3</td>\n",
       "      <td>Unknown</td>\n",
       "      <td>10</td>\n",
       "    </tr>\n",
       "    <tr>\n",
       "      <th>7</th>\n",
       "      <td>Movie</td>\n",
       "      <td>1</td>\n",
       "      <td>TV-MA</td>\n",
       "      <td>8</td>\n",
       "      <td>United States, Ghana, Burkina Faso, United Kin...</td>\n",
       "      <td>5</td>\n",
       "    </tr>\n",
       "    <tr>\n",
       "      <th>8</th>\n",
       "      <td>TV Show</td>\n",
       "      <td>0</td>\n",
       "      <td>TV-14</td>\n",
       "      <td>6</td>\n",
       "      <td>United Kingdom</td>\n",
       "      <td>8</td>\n",
       "    </tr>\n",
       "    <tr>\n",
       "      <th>9</th>\n",
       "      <td>Movie</td>\n",
       "      <td>1</td>\n",
       "      <td>PG-13</td>\n",
       "      <td>4</td>\n",
       "      <td>United States</td>\n",
       "      <td>9</td>\n",
       "    </tr>\n",
       "  </tbody>\n",
       "</table>\n",
       "</div>"
      ],
      "text/plain": [
       "      type  is_movie rating  rating_encoded  \\\n",
       "0    Movie         1  PG-13               4   \n",
       "1  TV Show         0  TV-MA               8   \n",
       "2  TV Show         0  TV-MA               8   \n",
       "3  TV Show         0  TV-MA               8   \n",
       "4  TV Show         0  TV-MA               8   \n",
       "5  TV Show         0  TV-MA               8   \n",
       "6    Movie         1     PG               3   \n",
       "7    Movie         1  TV-MA               8   \n",
       "8  TV Show         0  TV-14               6   \n",
       "9    Movie         1  PG-13               4   \n",
       "\n",
       "                                             country  country_encoded  \n",
       "0                                      United States                9  \n",
       "1                                       South Africa                5  \n",
       "2                                            Unknown               10  \n",
       "3                                            Unknown               10  \n",
       "4                                              India                2  \n",
       "5                                            Unknown               10  \n",
       "6                                            Unknown               10  \n",
       "7  United States, Ghana, Burkina Faso, United Kin...                5  \n",
       "8                                     United Kingdom                8  \n",
       "9                                      United States                9  "
      ]
     },
     "execution_count": 13,
     "metadata": {},
     "output_type": "execute_result"
    }
   ],
   "source": [
    "'''encoding to no.s for ML to understand it properly'''\n",
    "\n",
    "from sklearn.preprocessing import LabelEncoder\n",
    "\n",
    "# Encode 'type': Movie=1, TV Show=0\n",
    "df['is_movie'] = df['type'].apply(lambda x: 1 if x=='Movie' else 0) # makes a new encoded colm for type of only movie checker\n",
    "\n",
    "# Encode 'rating' using LabelEncoder\n",
    "le = LabelEncoder()\n",
    "df['rating_encoded'] = le.fit_transform(df['rating']) # makes a new endoded colm for rating \n",
    "\n",
    "# Handle 'country': keep top 10, rest as 'Other'\n",
    "top_countries = df['country'].value_counts().head(10).index\n",
    "df['country_clean'] = df['country'].apply(lambda x: x if x in top_countries else 'Other')\n",
    "df['country_encoded'] = le.fit_transform(df['country_clean'])\n",
    "\n",
    "# Check the new columns\n",
    "df[['type', 'is_movie', 'rating', 'rating_encoded', 'country', 'country_encoded']].head(10)\n"
   ]
  },
  {
   "cell_type": "code",
   "execution_count": null,
   "id": "f6c4fd24",
   "metadata": {},
   "outputs": [
    {
     "data": {
      "application/vnd.microsoft.datawrangler.viewer.v0+json": {
       "columns": [
        {
         "name": "index",
         "rawType": "int64",
         "type": "integer"
        },
        {
         "name": "release_year",
         "rawType": "int64",
         "type": "integer"
        },
        {
         "name": "decade",
         "rawType": "int64",
         "type": "integer"
        },
        {
         "name": "listed_in",
         "rawType": "object",
         "type": "string"
        },
        {
         "name": "genre_count",
         "rawType": "int64",
         "type": "integer"
        },
        {
         "name": "description",
         "rawType": "object",
         "type": "string"
        },
        {
         "name": "description_length",
         "rawType": "int64",
         "type": "integer"
        }
       ],
       "ref": "1996bf7b-fc3c-4978-8da2-b313871acffa",
       "rows": [
        [
         "0",
         "2020",
         "2020",
         "Documentaries",
         "1",
         "As her father nears the end of his life, filmmaker Kirsten Johnson stages his death in inventive and comical ways to help them both face the inevitable.",
         "27"
        ],
        [
         "1",
         "2021",
         "2020",
         "International TV Shows, TV Dramas, TV Mysteries",
         "3",
         "After crossing paths at a party, a Cape Town teen sets out to prove whether a private-school swimming star is her sister who was abducted at birth.",
         "27"
        ],
        [
         "2",
         "2021",
         "2020",
         "Crime TV Shows, International TV Shows, TV Action & Adventure",
         "3",
         "To protect his family from a powerful drug lord, skilled thief Mehdi and his expert team of robbers are pulled into a violent and deadly turf war.",
         "27"
        ],
        [
         "3",
         "2021",
         "2020",
         "Docuseries, Reality TV",
         "2",
         "Feuds, flirtations and toilet talk go down among the incarcerated women at the Orleans Justice Center in New Orleans on this gritty reality series.",
         "24"
        ],
        [
         "4",
         "2021",
         "2020",
         "International TV Shows, Romantic TV Shows, TV Comedies",
         "3",
         "In a city of coaching centers known to train India’s finest collegiate minds, an earnest but unexceptional student and his friends navigate campus life.",
         "24"
        ],
        [
         "5",
         "2021",
         "2020",
         "TV Dramas, TV Horror, TV Mysteries",
         "3",
         "The arrival of a charismatic young priest brings glorious miracles, ominous mysteries and renewed religious fervor to a dying town desperate to believe.",
         "23"
        ],
        [
         "6",
         "2021",
         "2020",
         "Children & Family Movies",
         "1",
         "Equestria's divided. But a bright-eyed hero believes Earth Ponies, Pegasi and Unicorns should be pals — and, hoof to heart, she’s determined to prove it.",
         "25"
        ],
        [
         "7",
         "1993",
         "1990",
         "Dramas, Independent Movies, International Movies",
         "3",
         "On a photo shoot in Ghana, an American model slips back in time, becomes enslaved on a plantation and bears witness to the agony of her ancestral past.",
         "28"
        ],
        [
         "8",
         "2021",
         "2020",
         "British TV Shows, Reality TV",
         "2",
         "A talented batch of amateur bakers face off in a 10-week competition, whipping up their best dishes in the hopes of being named the U.K.'s best.",
         "26"
        ],
        [
         "9",
         "2021",
         "2020",
         "Comedies, Dramas",
         "2",
         "A woman adjusting to life after a loss contends with a feisty bird that's taken over her garden — and a husband who's struggling to find a way forward.",
         "29"
        ]
       ],
       "shape": {
        "columns": 6,
        "rows": 10
       }
      },
      "text/html": [
       "<div>\n",
       "<style scoped>\n",
       "    .dataframe tbody tr th:only-of-type {\n",
       "        vertical-align: middle;\n",
       "    }\n",
       "\n",
       "    .dataframe tbody tr th {\n",
       "        vertical-align: top;\n",
       "    }\n",
       "\n",
       "    .dataframe thead th {\n",
       "        text-align: right;\n",
       "    }\n",
       "</style>\n",
       "<table border=\"1\" class=\"dataframe\">\n",
       "  <thead>\n",
       "    <tr style=\"text-align: right;\">\n",
       "      <th></th>\n",
       "      <th>release_year</th>\n",
       "      <th>decade</th>\n",
       "      <th>listed_in</th>\n",
       "      <th>genre_count</th>\n",
       "      <th>description</th>\n",
       "      <th>description_length</th>\n",
       "    </tr>\n",
       "  </thead>\n",
       "  <tbody>\n",
       "    <tr>\n",
       "      <th>0</th>\n",
       "      <td>2020</td>\n",
       "      <td>2020</td>\n",
       "      <td>Documentaries</td>\n",
       "      <td>1</td>\n",
       "      <td>As her father nears the end of his life, filmm...</td>\n",
       "      <td>27</td>\n",
       "    </tr>\n",
       "    <tr>\n",
       "      <th>1</th>\n",
       "      <td>2021</td>\n",
       "      <td>2020</td>\n",
       "      <td>International TV Shows, TV Dramas, TV Mysteries</td>\n",
       "      <td>3</td>\n",
       "      <td>After crossing paths at a party, a Cape Town t...</td>\n",
       "      <td>27</td>\n",
       "    </tr>\n",
       "    <tr>\n",
       "      <th>2</th>\n",
       "      <td>2021</td>\n",
       "      <td>2020</td>\n",
       "      <td>Crime TV Shows, International TV Shows, TV Act...</td>\n",
       "      <td>3</td>\n",
       "      <td>To protect his family from a powerful drug lor...</td>\n",
       "      <td>27</td>\n",
       "    </tr>\n",
       "    <tr>\n",
       "      <th>3</th>\n",
       "      <td>2021</td>\n",
       "      <td>2020</td>\n",
       "      <td>Docuseries, Reality TV</td>\n",
       "      <td>2</td>\n",
       "      <td>Feuds, flirtations and toilet talk go down amo...</td>\n",
       "      <td>24</td>\n",
       "    </tr>\n",
       "    <tr>\n",
       "      <th>4</th>\n",
       "      <td>2021</td>\n",
       "      <td>2020</td>\n",
       "      <td>International TV Shows, Romantic TV Shows, TV ...</td>\n",
       "      <td>3</td>\n",
       "      <td>In a city of coaching centers known to train I...</td>\n",
       "      <td>24</td>\n",
       "    </tr>\n",
       "    <tr>\n",
       "      <th>5</th>\n",
       "      <td>2021</td>\n",
       "      <td>2020</td>\n",
       "      <td>TV Dramas, TV Horror, TV Mysteries</td>\n",
       "      <td>3</td>\n",
       "      <td>The arrival of a charismatic young priest brin...</td>\n",
       "      <td>23</td>\n",
       "    </tr>\n",
       "    <tr>\n",
       "      <th>6</th>\n",
       "      <td>2021</td>\n",
       "      <td>2020</td>\n",
       "      <td>Children &amp; Family Movies</td>\n",
       "      <td>1</td>\n",
       "      <td>Equestria's divided. But a bright-eyed hero be...</td>\n",
       "      <td>25</td>\n",
       "    </tr>\n",
       "    <tr>\n",
       "      <th>7</th>\n",
       "      <td>1993</td>\n",
       "      <td>1990</td>\n",
       "      <td>Dramas, Independent Movies, International Movies</td>\n",
       "      <td>3</td>\n",
       "      <td>On a photo shoot in Ghana, an American model s...</td>\n",
       "      <td>28</td>\n",
       "    </tr>\n",
       "    <tr>\n",
       "      <th>8</th>\n",
       "      <td>2021</td>\n",
       "      <td>2020</td>\n",
       "      <td>British TV Shows, Reality TV</td>\n",
       "      <td>2</td>\n",
       "      <td>A talented batch of amateur bakers face off in...</td>\n",
       "      <td>26</td>\n",
       "    </tr>\n",
       "    <tr>\n",
       "      <th>9</th>\n",
       "      <td>2021</td>\n",
       "      <td>2020</td>\n",
       "      <td>Comedies, Dramas</td>\n",
       "      <td>2</td>\n",
       "      <td>A woman adjusting to life after a loss contend...</td>\n",
       "      <td>29</td>\n",
       "    </tr>\n",
       "  </tbody>\n",
       "</table>\n",
       "</div>"
      ],
      "text/plain": [
       "   release_year  decade                                          listed_in  \\\n",
       "0          2020    2020                                      Documentaries   \n",
       "1          2021    2020    International TV Shows, TV Dramas, TV Mysteries   \n",
       "2          2021    2020  Crime TV Shows, International TV Shows, TV Act...   \n",
       "3          2021    2020                             Docuseries, Reality TV   \n",
       "4          2021    2020  International TV Shows, Romantic TV Shows, TV ...   \n",
       "5          2021    2020                 TV Dramas, TV Horror, TV Mysteries   \n",
       "6          2021    2020                           Children & Family Movies   \n",
       "7          1993    1990   Dramas, Independent Movies, International Movies   \n",
       "8          2021    2020                       British TV Shows, Reality TV   \n",
       "9          2021    2020                                   Comedies, Dramas   \n",
       "\n",
       "   genre_count                                        description  \\\n",
       "0            1  As her father nears the end of his life, filmm...   \n",
       "1            3  After crossing paths at a party, a Cape Town t...   \n",
       "2            3  To protect his family from a powerful drug lor...   \n",
       "3            2  Feuds, flirtations and toilet talk go down amo...   \n",
       "4            3  In a city of coaching centers known to train I...   \n",
       "5            3  The arrival of a charismatic young priest brin...   \n",
       "6            1  Equestria's divided. But a bright-eyed hero be...   \n",
       "7            3  On a photo shoot in Ghana, an American model s...   \n",
       "8            2  A talented batch of amateur bakers face off in...   \n",
       "9            2  A woman adjusting to life after a loss contend...   \n",
       "\n",
       "   description_length  \n",
       "0                  27  \n",
       "1                  27  \n",
       "2                  27  \n",
       "3                  24  \n",
       "4                  24  \n",
       "5                  23  \n",
       "6                  25  \n",
       "7                  28  \n",
       "8                  26  \n",
       "9                  29  "
      ]
     },
     "execution_count": 14,
     "metadata": {},
     "output_type": "execute_result"
    }
   ],
   "source": [
    "'''add feature engineering to enhance model predictions'''\n",
    "\n",
    "# 1Create 'decade' from 'release_year'\n",
    "df['decade'] = (df['release_year'] // 10) * 10  # 1995 -> 1990, 2003 -> 2000\n",
    "\n",
    "# 2️⃣ Count number of genres in 'listed_in'\n",
    "df['genre_count'] = df['listed_in'].apply(lambda x: len(x.split(', ')))  # 'Dramas, Comedies' -> 2\n",
    "\n",
    "# 3️⃣ Count number of words in description\n",
    "df['description_length'] = df['description'].apply(lambda x: len(str(x).split()))\n",
    "\n",
    "# Check the new columns\n",
    "df[['release_year', 'decade', 'listed_in', 'genre_count', 'description', 'description_length']].head(10)\n"
   ]
  },
  {
   "cell_type": "code",
   "execution_count": 15,
   "id": "07930877",
   "metadata": {},
   "outputs": [
    {
     "name": "stdout",
     "output_type": "stream",
     "text": [
      "(8804, 20235)\n"
     ]
    }
   ],
   "source": [
    "from sklearn.feature_extraction.text import TfidfVectorizer\n",
    "import re\n",
    "import string\n",
    "\n",
    "# 1️Simple text cleaning function\n",
    "def clean_text(text):\n",
    "    text = str(text).lower()  # lowercase everything\n",
    "    text = re.sub(f'[{string.punctuation}]', '', text)  # remove punctuation\n",
    "    text = re.sub(r'\\d+', '', text)  # remove numbers\n",
    "    text = text.strip()  # remove leading/trailing spaces\n",
    "    return text\n",
    "\n",
    "# Apply cleaning to the 'description' column\n",
    "df['description_clean'] = df['description'].apply(clean_text)\n",
    "\n",
    "# 2Create TF-IDF vectors\n",
    "tfidf = TfidfVectorizer(stop_words='english')  # automatically removes common English words\n",
    "tfidf_matrix = tfidf.fit_transform(df['description_clean'])  # matrix: rows = movies, columns = words\n",
    "\n",
    "print(tfidf_matrix.shape)\n"
   ]
  },
  {
   "cell_type": "code",
   "execution_count": 34,
   "id": "b180ee0e",
   "metadata": {},
   "outputs": [
    {
     "data": {
      "text/plain": [
       "['Lucid Dream',\n",
       " 'Sunrise',\n",
       " 'In My Country',\n",
       " 'My Only Mother',\n",
       " 'We Are All For The Fatherland']"
      ]
     },
     "execution_count": 34,
     "metadata": {},
     "output_type": "execute_result"
    }
   ],
   "source": [
    "from sklearn.metrics.pairwise import cosine_similarity\n",
    "\n",
    "# Compute cosine similarity matrix\n",
    "cosine_sim = cosine_similarity(tfidf_matrix, tfidf_matrix)  # shape: (8804, 8804)\n",
    "'''We pass the same matrix twice because we want to compare every movie’s TF-IDF vector with every other movie’s vector — including itself.'''\n",
    "\n",
    "# Create a function to recommend similar titles\n",
    "def recommend(title, df=df, sim_matrix=cosine_sim, top_n=5):\n",
    "    # Find the index of the title in the DataFrame\n",
    "    idx = df[df['title'] == title].index[0] \n",
    "    ''' checks if title we entered matches the df row , then selects that row and finds its index to know index of entered title'''\n",
    "    ''' and index also gives a array so evenn if only one no still do [0] to get that '''\n",
    "    \n",
    "    # Get similarity scores for this title with all others\n",
    "    sim_scores = list(enumerate(sim_matrix[idx]))\n",
    "    \n",
    "    # Sort movies by similarity score (highest first)\n",
    "    sim_scores = sorted(sim_scores, key=lambda x: x[1] , reverse=True)\n",
    "    \n",
    "    # Take top_n + 1 titles (skip the first one, it’s the same movie)\n",
    "    sim_scores = sim_scores[1:top_n+1]\n",
    "    \n",
    "    # Get the indices of the recommended titles\n",
    "    movie_indices = [i[0] for i in sim_scores] # since first column is title so take that (its still a number)\n",
    "    \n",
    "    # Return the recommended titles\n",
    "    return df['title'].iloc[movie_indices].tolist()\n",
    "\n",
    "# Test the recommendation function\n",
    "recommend(\"Breaking Bad\", top_n=5)\n"
   ]
  },
  {
   "cell_type": "markdown",
   "id": "17a75a8b",
   "metadata": {},
   "source": [
    "## Phase 4 — Machine Learning Model Training (Netflix Dataset)\n",
    "\n",
    "Now that we’ve cleaned and preprocessed our dataset, it’s time to train some predictive models.\n",
    "\n",
    "### Goal\n",
    "We’ll build ML models that can **predict useful information about Netflix titles** — for example:\n",
    "- What **rating** (G, PG, R, TV-MA, etc.) a new title might get  \n",
    "- Which **decade** (1990s, 2000s, 2010s…) a title belongs to  \n",
    "\n",
    "These are **classification problems**, since the output is a category label.\n",
    "\n",
    "---\n",
    "\n",
    "### Step 1 — Feature & Target Selection\n",
    "We’ll pick a few columns as inputs (**features X**) and one as the output (**target y**).\n",
    "\n",
    "#### Example A — Predict Rating\n",
    "- **Features (X)** → `type`, `country`, `duration`, `listed_in`, `release_year`  \n",
    "- **Target (y)** → `rating`\n",
    "\n",
    "The model will learn:\n",
    "> “Given the type, country, year, genre, and duration, predict what rating a title will get.”\n",
    "\n",
    "#### Example B — Predict Decade\n",
    "- **Features (X)** → `type`, `rating`, `duration`, `listed_in`  \n",
    "- **Target (y)** → `decade` (derived from `release_year`)\n",
    "\n",
    "---\n",
    "\n",
    "### Step 2 — Pre-Processing\n",
    "\n",
    "Before training:\n",
    "1. Convert categorical text features (like `type`, `country`, `listed_in`) into numeric form using **LabelEncoder** or **One-Hot Encoding**.  \n",
    "2. Split the dataset into **training** and **testing** sets using `train_test_split`.  \n",
    "3. Handle any missing or rare values appropriately.\n",
    "\n",
    "---\n",
    "\n",
    "### Step 3 — Model Selection\n",
    "\n",
    "We’ll try several simple classification models:\n",
    "- **Logistic Regression** — good baseline for categorical prediction  \n",
    "- **Random Forest Classifier** — handles mixed features and nonlinear relations  \n",
    "- **Decision Tree Classifier** — interpretable, simple model  \n",
    "\n",
    "Later we can tune them with Grid Search or add new models like SVM or XGBoost.\n",
    "\n",
    "---\n",
    "\n",
    "### Step 4 — Evaluation\n",
    "\n",
    "After training, we’ll evaluate models using:\n",
    "- **Accuracy Score**\n",
    "- **Confusion Matrix**\n",
    "- **Classification Report** (Precision, Recall, F1-score)\n",
    "\n",
    "These metrics show how well our model predicts unseen data.\n",
    "\n",
    "---\n",
    "\n",
    "### Step 5 — Prediction Example\n",
    "\n",
    "Once trained, our model can predict something like:\n",
    "\n",
    "| Input | Output |\n",
    "|-------|---------|\n",
    "| Type: Movie, Genre: Action, Year: 2018, Duration: 100 | Predicted Rating: TV-MA |\n",
    "\n",
    "This demonstrates how the model uses the learned relationships to make new predictions.\n",
    "\n",
    "---\n",
    "\n",
    "\n"
   ]
  },
  {
   "cell_type": "code",
   "execution_count": 17,
   "id": "aa727e3b",
   "metadata": {},
   "outputs": [
    {
     "name": "stderr",
     "output_type": "stream",
     "text": [
      "C:\\Users\\chala\\AppData\\Local\\Temp\\ipykernel_22196\\1421360525.py:7: SettingWithCopyWarning: \n",
      "A value is trying to be set on a copy of a slice from a DataFrame\n",
      "\n",
      "See the caveats in the documentation: https://pandas.pydata.org/pandas-docs/stable/user_guide/indexing.html#returning-a-view-versus-a-copy\n",
      "  df_model.dropna(inplace=True)\n"
     ]
    },
    {
     "data": {
      "application/vnd.microsoft.datawrangler.viewer.v0+json": {
       "columns": [
        {
         "name": "index",
         "rawType": "int64",
         "type": "integer"
        },
        {
         "name": "is_movie",
         "rawType": "int64",
         "type": "integer"
        },
        {
         "name": "release_year",
         "rawType": "int64",
         "type": "integer"
        },
        {
         "name": "duration_num",
         "rawType": "int64",
         "type": "integer"
        },
        {
         "name": "country_encoded",
         "rawType": "int64",
         "type": "integer"
        },
        {
         "name": "listed_in",
         "rawType": "object",
         "type": "string"
        }
       ],
       "ref": "0dfa2932-20ca-4f7f-8767-ac137c2bf133",
       "rows": [
        [
         "0",
         "1",
         "2020",
         "90",
         "9",
         "Documentaries"
        ],
        [
         "1",
         "0",
         "2021",
         "2",
         "5",
         "International TV Shows, TV Dramas, TV Mysteries"
        ],
        [
         "2",
         "0",
         "2021",
         "1",
         "10",
         "Crime TV Shows, International TV Shows, TV Action & Adventure"
        ],
        [
         "3",
         "0",
         "2021",
         "1",
         "10",
         "Docuseries, Reality TV"
        ],
        [
         "4",
         "0",
         "2021",
         "2",
         "2",
         "International TV Shows, Romantic TV Shows, TV Comedies"
        ]
       ],
       "shape": {
        "columns": 5,
        "rows": 5
       }
      },
      "text/html": [
       "<div>\n",
       "<style scoped>\n",
       "    .dataframe tbody tr th:only-of-type {\n",
       "        vertical-align: middle;\n",
       "    }\n",
       "\n",
       "    .dataframe tbody tr th {\n",
       "        vertical-align: top;\n",
       "    }\n",
       "\n",
       "    .dataframe thead th {\n",
       "        text-align: right;\n",
       "    }\n",
       "</style>\n",
       "<table border=\"1\" class=\"dataframe\">\n",
       "  <thead>\n",
       "    <tr style=\"text-align: right;\">\n",
       "      <th></th>\n",
       "      <th>is_movie</th>\n",
       "      <th>release_year</th>\n",
       "      <th>duration_num</th>\n",
       "      <th>country_encoded</th>\n",
       "      <th>listed_in</th>\n",
       "    </tr>\n",
       "  </thead>\n",
       "  <tbody>\n",
       "    <tr>\n",
       "      <th>0</th>\n",
       "      <td>1</td>\n",
       "      <td>2020</td>\n",
       "      <td>90</td>\n",
       "      <td>9</td>\n",
       "      <td>Documentaries</td>\n",
       "    </tr>\n",
       "    <tr>\n",
       "      <th>1</th>\n",
       "      <td>0</td>\n",
       "      <td>2021</td>\n",
       "      <td>2</td>\n",
       "      <td>5</td>\n",
       "      <td>International TV Shows, TV Dramas, TV Mysteries</td>\n",
       "    </tr>\n",
       "    <tr>\n",
       "      <th>2</th>\n",
       "      <td>0</td>\n",
       "      <td>2021</td>\n",
       "      <td>1</td>\n",
       "      <td>10</td>\n",
       "      <td>Crime TV Shows, International TV Shows, TV Act...</td>\n",
       "    </tr>\n",
       "    <tr>\n",
       "      <th>3</th>\n",
       "      <td>0</td>\n",
       "      <td>2021</td>\n",
       "      <td>1</td>\n",
       "      <td>10</td>\n",
       "      <td>Docuseries, Reality TV</td>\n",
       "    </tr>\n",
       "    <tr>\n",
       "      <th>4</th>\n",
       "      <td>0</td>\n",
       "      <td>2021</td>\n",
       "      <td>2</td>\n",
       "      <td>2</td>\n",
       "      <td>International TV Shows, Romantic TV Shows, TV ...</td>\n",
       "    </tr>\n",
       "  </tbody>\n",
       "</table>\n",
       "</div>"
      ],
      "text/plain": [
       "   is_movie  release_year  duration_num  country_encoded  \\\n",
       "0         1          2020            90                9   \n",
       "1         0          2021             2                5   \n",
       "2         0          2021             1               10   \n",
       "3         0          2021             1               10   \n",
       "4         0          2021             2                2   \n",
       "\n",
       "                                           listed_in  \n",
       "0                                      Documentaries  \n",
       "1    International TV Shows, TV Dramas, TV Mysteries  \n",
       "2  Crime TV Shows, International TV Shows, TV Act...  \n",
       "3                             Docuseries, Reality TV  \n",
       "4  International TV Shows, Romantic TV Shows, TV ...  "
      ]
     },
     "execution_count": 17,
     "metadata": {},
     "output_type": "execute_result"
    }
   ],
   "source": [
    "'''create input and output colums , X has inputs and use them to predict output Y column'''\n",
    "\n",
    "# Select useful columns for modeling\n",
    "df_model = df[['is_movie', 'release_year', 'duration_num', 'country_encoded', 'rating_encoded', 'listed_in']]\n",
    "\n",
    "# Drop any remaining rows with missing values\n",
    "df_model.dropna(inplace=True)\n",
    "\n",
    "# Separate input (X) and target (y)\n",
    "X = df_model[['is_movie', 'release_year', 'duration_num', 'country_encoded', 'listed_in']] #inputs\n",
    "y = df_model['rating_encoded'] # output prediction using input columns of X (here we will predict rating using the inputs as X)\n",
    "\n",
    "# Display first few rows to confirm\n",
    "X.head()\n"
   ]
  },
  {
   "cell_type": "code",
   "execution_count": 18,
   "id": "b8bef296",
   "metadata": {},
   "outputs": [
    {
     "data": {
      "application/vnd.microsoft.datawrangler.viewer.v0+json": {
       "columns": [
        {
         "name": "index",
         "rawType": "object",
         "type": "string"
        },
        {
         "name": "0",
         "rawType": "object",
         "type": "unknown"
        }
       ],
       "ref": "1ae920ac-e746-48ea-9b11-1097a3e78f80",
       "rows": [
        [
         "is_movie",
         "int64"
        ],
        [
         "release_year",
         "int64"
        ],
        [
         "duration_num",
         "int64"
        ],
        [
         "country_encoded",
         "int64"
        ],
        [
         "listed_in",
         "object"
        ]
       ],
       "shape": {
        "columns": 1,
        "rows": 5
       }
      },
      "text/plain": [
       "is_movie            int64\n",
       "release_year        int64\n",
       "duration_num        int64\n",
       "country_encoded     int64\n",
       "listed_in          object\n",
       "dtype: object"
      ]
     },
     "execution_count": 18,
     "metadata": {},
     "output_type": "execute_result"
    }
   ],
   "source": [
    "X.dtypes\n"
   ]
  },
  {
   "cell_type": "code",
   "execution_count": 19,
   "id": "db4b2b6f",
   "metadata": {},
   "outputs": [
    {
     "name": "stderr",
     "output_type": "stream",
     "text": [
      "C:\\Users\\chala\\AppData\\Local\\Temp\\ipykernel_22196\\3352917835.py:6: SettingWithCopyWarning: \n",
      "A value is trying to be set on a copy of a slice from a DataFrame.\n",
      "Try using .loc[row_indexer,col_indexer] = value instead\n",
      "\n",
      "See the caveats in the documentation: https://pandas.pydata.org/pandas-docs/stable/user_guide/indexing.html#returning-a-view-versus-a-copy\n",
      "  df_model['main_genre'] = df_model['listed_in'].apply(lambda x: x.split(',')[0].strip())\n",
      "C:\\Users\\chala\\AppData\\Local\\Temp\\ipykernel_22196\\3352917835.py:11: SettingWithCopyWarning: \n",
      "A value is trying to be set on a copy of a slice from a DataFrame.\n",
      "Try using .loc[row_indexer,col_indexer] = value instead\n",
      "\n",
      "See the caveats in the documentation: https://pandas.pydata.org/pandas-docs/stable/user_guide/indexing.html#returning-a-view-versus-a-copy\n",
      "  df_model['genre_encoded'] = le.fit_transform(df_model['main_genre'])\n"
     ]
    },
    {
     "data": {
      "application/vnd.microsoft.datawrangler.viewer.v0+json": {
       "columns": [
        {
         "name": "index",
         "rawType": "object",
         "type": "string"
        },
        {
         "name": "0",
         "rawType": "object",
         "type": "unknown"
        }
       ],
       "ref": "22721d7a-a60b-4c19-9b0b-71a7179d9749",
       "rows": [
        [
         "is_movie",
         "int64"
        ],
        [
         "release_year",
         "int64"
        ],
        [
         "duration_num",
         "int64"
        ],
        [
         "country_encoded",
         "int64"
        ],
        [
         "genre_encoded",
         "int64"
        ]
       ],
       "shape": {
        "columns": 1,
        "rows": 5
       }
      },
      "text/plain": [
       "is_movie           int64\n",
       "release_year       int64\n",
       "duration_num       int64\n",
       "country_encoded    int64\n",
       "genre_encoded      int64\n",
       "dtype: object"
      ]
     },
     "execution_count": 19,
     "metadata": {},
     "output_type": "execute_result"
    }
   ],
   "source": [
    "'''listed in is still object and not int --> make it int too'''\n",
    "\n",
    "from sklearn.preprocessing import LabelEncoder\n",
    "\n",
    "# Take only the first genre (before the first comma)\n",
    "df_model['main_genre'] = df_model['listed_in'].apply(lambda x: x.split(',')[0].strip())\n",
    "#this takes the first one assigns it to 0 , then keeps assigning the rest as 1,2,3... and so on at every unique occurance using LE\n",
    "\n",
    "# Encode genres into numbers\n",
    "le = LabelEncoder()\n",
    "df_model['genre_encoded'] = le.fit_transform(df_model['main_genre'])\n",
    "\n",
    "# Replace text genre column with the encoded one for modeling\n",
    "X = df_model[['is_movie', 'release_year', 'duration_num', 'country_encoded', 'genre_encoded']]\n",
    "y = df_model['rating_encoded']\n",
    "\n",
    "# Confirm datatypes are now all numeric\n",
    "X.dtypes\n"
   ]
  },
  {
   "cell_type": "code",
   "execution_count": 20,
   "id": "01dc5c69",
   "metadata": {},
   "outputs": [
    {
     "name": "stdout",
     "output_type": "stream",
     "text": [
      "X_train shape: (7043, 5)\n",
      "X_test shape: (1761, 5)\n",
      "y_train shape: (7043,)\n",
      "y_test shape: (1761,)\n"
     ]
    }
   ],
   "source": [
    "'''now split data for model training '''\n",
    "\n",
    "from sklearn.model_selection import train_test_split\n",
    "\n",
    "# Split the dataset into training and testing sets\n",
    "# 80% training, 20% testing\n",
    "# random_state ensures reproducibility (same split every time)\n",
    "X_train, X_test, y_train, y_test = train_test_split(\n",
    "    X, y, test_size=0.2, random_state=42\n",
    ")\n",
    "\n",
    "# Check the shapes to confirm\n",
    "print(\"X_train shape:\", X_train.shape)\n",
    "print(\"X_test shape:\", X_test.shape)\n",
    "print(\"y_train shape:\", y_train.shape)\n",
    "print(\"y_test shape:\", y_test.shape)\n"
   ]
  },
  {
   "cell_type": "code",
   "execution_count": 21,
   "id": "4733478e",
   "metadata": {},
   "outputs": [
    {
     "name": "stderr",
     "output_type": "stream",
     "text": [
      "C:\\Users\\chala\\AppData\\Roaming\\Python\\Python312\\site-packages\\sklearn\\linear_model\\_logistic.py:470: ConvergenceWarning: lbfgs failed to converge after 1000 iteration(s) (status=1):\n",
      "STOP: TOTAL NO. OF ITERATIONS REACHED LIMIT\n",
      "\n",
      "Increase the number of iterations to improve the convergence (max_iter=1000).\n",
      "You might also want to scale the data as shown in:\n",
      "    https://scikit-learn.org/stable/modules/preprocessing.html\n",
      "Please also refer to the documentation for alternative solver options:\n",
      "    https://scikit-learn.org/stable/modules/linear_model.html#logistic-regression\n",
      "  n_iter_i = _check_optimize_result(\n"
     ]
    }
   ],
   "source": [
    "\n",
    "from sklearn.linear_model import LogisticRegression\n",
    "from sklearn.metrics import accuracy_score, classification_report\n",
    "\n",
    "# Initialize Logistic Regression model\n",
    "# random_state=42 -> ensures consistent results every time we run\n",
    "log_reg = LogisticRegression(random_state=42, max_iter=1000)\n",
    "\n",
    "\n",
    "log_reg.fit(X_train, y_train)\n",
    "\n",
    "y_pred = log_reg.predict(X_test)\n"
   ]
  },
  {
   "cell_type": "code",
   "execution_count": 22,
   "id": "ecdc4eed",
   "metadata": {},
   "outputs": [
    {
     "name": "stdout",
     "output_type": "stream",
     "text": [
      " Logistic Regression Accuracy: 0.40034071550255534\n",
      "\n",
      " Classification Report:\n",
      "              precision    recall  f1-score   support\n",
      "\n",
      "           0       0.00      0.00      0.00         9\n",
      "           2       0.00      0.00      0.00        16\n",
      "           3       0.00      0.00      0.00        52\n",
      "           4       0.00      0.00      0.00       110\n",
      "           5       0.29      0.16      0.20       161\n",
      "           6       0.50      0.26      0.34       433\n",
      "           7       0.00      0.00      0.00        44\n",
      "           8       0.39      0.90      0.55       634\n",
      "           9       0.00      0.00      0.00       169\n",
      "          10       0.00      0.00      0.00        62\n",
      "          11       0.00      0.00      0.00        69\n",
      "          12       0.00      0.00      0.00         1\n",
      "          13       0.00      0.00      0.00         1\n",
      "\n",
      "    accuracy                           0.40      1761\n",
      "   macro avg       0.09      0.10      0.08      1761\n",
      "weighted avg       0.29      0.40      0.30      1761\n",
      "\n"
     ]
    },
    {
     "name": "stderr",
     "output_type": "stream",
     "text": [
      "C:\\Users\\chala\\AppData\\Roaming\\Python\\Python312\\site-packages\\sklearn\\metrics\\_classification.py:1706: UndefinedMetricWarning: Precision is ill-defined and being set to 0.0 in labels with no predicted samples. Use `zero_division` parameter to control this behavior.\n",
      "  _warn_prf(average, modifier, f\"{metric.capitalize()} is\", result.shape[0])\n",
      "C:\\Users\\chala\\AppData\\Roaming\\Python\\Python312\\site-packages\\sklearn\\metrics\\_classification.py:1706: UndefinedMetricWarning: Precision is ill-defined and being set to 0.0 in labels with no predicted samples. Use `zero_division` parameter to control this behavior.\n",
      "  _warn_prf(average, modifier, f\"{metric.capitalize()} is\", result.shape[0])\n",
      "C:\\Users\\chala\\AppData\\Roaming\\Python\\Python312\\site-packages\\sklearn\\metrics\\_classification.py:1706: UndefinedMetricWarning: Precision is ill-defined and being set to 0.0 in labels with no predicted samples. Use `zero_division` parameter to control this behavior.\n",
      "  _warn_prf(average, modifier, f\"{metric.capitalize()} is\", result.shape[0])\n"
     ]
    }
   ],
   "source": [
    "# Accuracy tells us how many predictions were correct overall\n",
    "accuracy = accuracy_score(y_test, y_pred)\n",
    "print(\" Logistic Regression Accuracy:\", accuracy)\n",
    "\n",
    "# Classification report shows precision, recall, F1-score for each class\n",
    "print(\"\\n Classification Report:\")\n",
    "print(classification_report(y_test, y_pred))\n"
   ]
  },
  {
   "cell_type": "code",
   "execution_count": 23,
   "id": "9607db7d",
   "metadata": {},
   "outputs": [
    {
     "name": "stdout",
     "output_type": "stream",
     "text": [
      "\n",
      "🔮 Predicted probabilities (first 5):\n",
      "[[9.79625873e-04 1.96019014e-05 2.56810061e-03 1.05733964e-03\n",
      "  2.15867265e-03 5.69801443e-03 2.69411691e-01 2.77595734e-02\n",
      "  4.98591055e-01 1.05527965e-01 4.66636561e-02 3.80765467e-02\n",
      "  7.71259426e-04 5.75815534e-05 6.59316050e-04]\n",
      " [4.19222864e-03 3.90018353e-04 9.82504493e-03 2.11049301e-02\n",
      "  4.00574811e-02 6.45506196e-02 3.40509117e-01 1.49404284e-02\n",
      "  3.91285545e-01 9.06115586e-02 8.66708603e-03 1.27927252e-02\n",
      "  4.36375888e-04 3.75961434e-04 2.60880127e-04]\n",
      " [1.39697932e-03 2.33793711e-05 2.95591705e-03 2.29900603e-03\n",
      "  2.75211428e-03 5.95584742e-03 2.63977624e-01 3.25158660e-02\n",
      "  4.56995747e-01 1.12679199e-01 6.27173716e-02 5.38113288e-02\n",
      "  1.00941040e-03 7.06199669e-05 8.39590040e-04]\n",
      " [2.86291961e-03 3.95410379e-05 4.82813342e-03 8.64570513e-03\n",
      "  7.69209893e-03 1.58406911e-02 1.64681878e-01 5.25402309e-02\n",
      "  3.77346224e-01 1.33660096e-01 1.15869385e-01 1.12709206e-01\n",
      "  1.75330142e-03 1.20492609e-04 1.41009803e-03]\n",
      " [6.81451976e-03 9.41989307e-04 1.52194264e-02 6.64828168e-02\n",
      "  1.68559738e-01 2.88741992e-01 1.37127010e-01 1.31294985e-02\n",
      "  2.17227429e-01 6.79600049e-02 5.68355494e-03 1.08875675e-02\n",
      "  3.69771737e-04 6.55632307e-04 1.99048261e-04]]\n"
     ]
    }
   ],
   "source": [
    "# predict_proba() gives probabilities for each class\n",
    "y_prob = log_reg.predict_proba(X_test)\n",
    "\n",
    "# Example: first 5 samples\n",
    "print(\"\\n🔮 Predicted probabilities (first 5):\")\n",
    "print(y_prob[:5])\n"
   ]
  },
  {
   "cell_type": "code",
   "execution_count": 24,
   "id": "f4fb59ad",
   "metadata": {},
   "outputs": [
    {
     "name": "stdout",
     "output_type": "stream",
     "text": [
      " Decision Tree Accuracy: 0.42589437819420783\n",
      "\n",
      " Classification Report:\n",
      "               precision    recall  f1-score   support\n",
      "\n",
      "           0       0.44      0.44      0.44         9\n",
      "           2       0.11      0.12      0.12        16\n",
      "           3       0.37      0.42      0.39        52\n",
      "           4       0.31      0.34      0.32       110\n",
      "           5       0.36      0.35      0.36       161\n",
      "           6       0.41      0.42      0.41       433\n",
      "           7       0.15      0.14      0.14        44\n",
      "           8       0.55      0.57      0.56       634\n",
      "           9       0.21      0.18      0.19       169\n",
      "          10       0.48      0.53      0.50        62\n",
      "          11       0.42      0.28      0.33        69\n",
      "          12       0.00      0.00      0.00         1\n",
      "          13       0.00      0.00      0.00         1\n",
      "          14       0.00      0.00      0.00         0\n",
      "\n",
      "    accuracy                           0.43      1761\n",
      "   macro avg       0.27      0.27      0.27      1761\n",
      "weighted avg       0.42      0.43      0.42      1761\n",
      "\n"
     ]
    },
    {
     "name": "stderr",
     "output_type": "stream",
     "text": [
      "C:\\Users\\chala\\AppData\\Roaming\\Python\\Python312\\site-packages\\sklearn\\metrics\\_classification.py:1706: UndefinedMetricWarning: Precision is ill-defined and being set to 0.0 in labels with no predicted samples. Use `zero_division` parameter to control this behavior.\n",
      "  _warn_prf(average, modifier, f\"{metric.capitalize()} is\", result.shape[0])\n",
      "C:\\Users\\chala\\AppData\\Roaming\\Python\\Python312\\site-packages\\sklearn\\metrics\\_classification.py:1706: UndefinedMetricWarning: Recall is ill-defined and being set to 0.0 in labels with no true samples. Use `zero_division` parameter to control this behavior.\n",
      "  _warn_prf(average, modifier, f\"{metric.capitalize()} is\", result.shape[0])\n",
      "C:\\Users\\chala\\AppData\\Roaming\\Python\\Python312\\site-packages\\sklearn\\metrics\\_classification.py:1706: UndefinedMetricWarning: Precision is ill-defined and being set to 0.0 in labels with no predicted samples. Use `zero_division` parameter to control this behavior.\n",
      "  _warn_prf(average, modifier, f\"{metric.capitalize()} is\", result.shape[0])\n",
      "C:\\Users\\chala\\AppData\\Roaming\\Python\\Python312\\site-packages\\sklearn\\metrics\\_classification.py:1706: UndefinedMetricWarning: Recall is ill-defined and being set to 0.0 in labels with no true samples. Use `zero_division` parameter to control this behavior.\n",
      "  _warn_prf(average, modifier, f\"{metric.capitalize()} is\", result.shape[0])\n",
      "C:\\Users\\chala\\AppData\\Roaming\\Python\\Python312\\site-packages\\sklearn\\metrics\\_classification.py:1706: UndefinedMetricWarning: Precision is ill-defined and being set to 0.0 in labels with no predicted samples. Use `zero_division` parameter to control this behavior.\n",
      "  _warn_prf(average, modifier, f\"{metric.capitalize()} is\", result.shape[0])\n",
      "C:\\Users\\chala\\AppData\\Roaming\\Python\\Python312\\site-packages\\sklearn\\metrics\\_classification.py:1706: UndefinedMetricWarning: Recall is ill-defined and being set to 0.0 in labels with no true samples. Use `zero_division` parameter to control this behavior.\n",
      "  _warn_prf(average, modifier, f\"{metric.capitalize()} is\", result.shape[0])\n"
     ]
    }
   ],
   "source": [
    "# Import the DecisionTreeClassifier from sklearn\n",
    "from sklearn.tree import DecisionTreeClassifier  \n",
    "from sklearn.metrics import accuracy_score, classification_report  \n",
    "\n",
    "# Create the model\n",
    "dt_model = DecisionTreeClassifier(random_state=42)  # random_state for repeatable results\n",
    "\n",
    "# Train the model on training data\n",
    "dt_model.fit(X_train, y_train)  # fits tree to data\n",
    "\n",
    "# Make predictions on test data\n",
    "y_pred_dt = dt_model.predict(X_test)\n",
    "\n",
    "# Evaluate the accuracy\n",
    "accuracy_dt = accuracy_score(y_test, y_pred_dt)  # how many correct predictions\n",
    "print(\" Decision Tree Accuracy:\", accuracy_dt)\n",
    "\n",
    "# Show detailed metrics\n",
    "print(\"\\n Classification Report:\\n\", classification_report(y_test, y_pred_dt))\n"
   ]
  },
  {
   "cell_type": "code",
   "execution_count": 25,
   "id": "2edc9c98",
   "metadata": {},
   "outputs": [
    {
     "name": "stdout",
     "output_type": "stream",
     "text": [
      "Random Forest Accuracy: 0.46564452015900054\n",
      "\n",
      " Classification Report:\n",
      "               precision    recall  f1-score   support\n",
      "\n",
      "           0       0.43      0.33      0.38         9\n",
      "           2       0.15      0.12      0.14        16\n",
      "           3       0.46      0.46      0.46        52\n",
      "           4       0.37      0.31      0.34       110\n",
      "           5       0.38      0.32      0.35       161\n",
      "           6       0.43      0.44      0.43       433\n",
      "           7       0.10      0.07      0.08        44\n",
      "           8       0.57      0.65      0.61       634\n",
      "           9       0.23      0.19      0.21       169\n",
      "          10       0.56      0.65      0.60        62\n",
      "          11       0.48      0.38      0.42        69\n",
      "          12       0.00      0.00      0.00         1\n",
      "          13       0.00      0.00      0.00         1\n",
      "\n",
      "    accuracy                           0.47      1761\n",
      "   macro avg       0.32      0.30      0.31      1761\n",
      "weighted avg       0.45      0.47      0.46      1761\n",
      "\n"
     ]
    },
    {
     "name": "stderr",
     "output_type": "stream",
     "text": [
      "C:\\Users\\chala\\AppData\\Roaming\\Python\\Python312\\site-packages\\sklearn\\metrics\\_classification.py:1706: UndefinedMetricWarning: Precision is ill-defined and being set to 0.0 in labels with no predicted samples. Use `zero_division` parameter to control this behavior.\n",
      "  _warn_prf(average, modifier, f\"{metric.capitalize()} is\", result.shape[0])\n",
      "C:\\Users\\chala\\AppData\\Roaming\\Python\\Python312\\site-packages\\sklearn\\metrics\\_classification.py:1706: UndefinedMetricWarning: Precision is ill-defined and being set to 0.0 in labels with no predicted samples. Use `zero_division` parameter to control this behavior.\n",
      "  _warn_prf(average, modifier, f\"{metric.capitalize()} is\", result.shape[0])\n",
      "C:\\Users\\chala\\AppData\\Roaming\\Python\\Python312\\site-packages\\sklearn\\metrics\\_classification.py:1706: UndefinedMetricWarning: Precision is ill-defined and being set to 0.0 in labels with no predicted samples. Use `zero_division` parameter to control this behavior.\n",
      "  _warn_prf(average, modifier, f\"{metric.capitalize()} is\", result.shape[0])\n"
     ]
    }
   ],
   "source": [
    "# Import Random Forest and metrics\n",
    "from sklearn.ensemble import RandomForestClassifier\n",
    "from sklearn.metrics import accuracy_score, classification_report\n",
    "\n",
    "# Create Random Forest model\n",
    "rf_model = RandomForestClassifier(n_estimators=100, random_state=42)  # 100 trees, fixed randomness\n",
    "\n",
    "# Train on training data\n",
    "rf_model.fit(X_train, y_train)\n",
    "\n",
    "# Predict on test data\n",
    "y_pred_rf = rf_model.predict(X_test)\n",
    "\n",
    "# Evaluate accuracy\n",
    "accuracy_rf = accuracy_score(y_test, y_pred_rf)\n",
    "print(\"Random Forest Accuracy:\", accuracy_rf)\n",
    "\n",
    "# Show detailed report\n",
    "print(\"\\n Classification Report:\\n\", classification_report(y_test, y_pred_rf))\n"
   ]
  },
  {
   "cell_type": "markdown",
   "id": "f6dcbafd",
   "metadata": {},
   "source": [
    "\n",
    "\n",
    "## Hyperparameter Tuning & Final Model\n",
    "\n",
    "In the previous phase, we trained our Random Forest model with default parameters.\n",
    "It performed better than a single decision tree, but there’s still room to improve.\n",
    "\n",
    "This phase is all about **tweaking the knobs** — we’ll systematically test different settings of our Random Forest to see what combination gives the **best accuracy** without overfitting.\n",
    "\n",
    "---\n",
    "\n",
    "### Objective\n",
    "\n",
    "* Boost model performance by finding the **best parameter combination**.\n",
    "* Prevent overfitting by controlling tree depth and splits.\n",
    "* Save the final optimized model for later evaluation and deployment.\n",
    "\n",
    "---\n",
    "\n",
    "### Key Parameters to Tune\n",
    "\n",
    "| Parameter           | Meaning                                  | Why it matters                                                      |\n",
    "| ------------------- | ---------------------------------------- | ------------------------------------------------------------------- |\n",
    "| `n_estimators`      | Number of trees in the forest            | More trees → better stability, but more computation                 |\n",
    "| `max_depth`         | Maximum depth of each tree               | Controls complexity; too high → overfitting, too low → underfitting |\n",
    "| `min_samples_split` | Minimum samples required to split a node | Helps prevent overly specific rules on small samples                |\n",
    "\n",
    "---\n",
    "\n",
    "\n",
    "\n"
   ]
  },
  {
   "cell_type": "code",
   "execution_count": 35,
   "id": "dab52bd0",
   "metadata": {},
   "outputs": [
    {
     "name": "stdout",
     "output_type": "stream",
     "text": [
      "Fitting 10 folds for each of 36 candidates, totalling 360 fits\n"
     ]
    },
    {
     "name": "stderr",
     "output_type": "stream",
     "text": [
      "C:\\Users\\chala\\AppData\\Roaming\\Python\\Python312\\site-packages\\sklearn\\model_selection\\_split.py:811: UserWarning: The least populated class in y has only 2 members, which is less than n_splits=10.\n",
      "  warnings.warn(\n"
     ]
    },
    {
     "name": "stdout",
     "output_type": "stream",
     "text": [
      "Best Parameters: {'max_depth': 10, 'min_samples_split': 5, 'n_estimators': 200}\n",
      "Best CV Score: 0.5114283123791102\n",
      " Optimized Random Forest Accuracy: 0.534923339011925\n",
      "\n",
      " Classification Report:\n",
      "               precision    recall  f1-score   support\n",
      "\n",
      "           0       0.60      0.33      0.43         9\n",
      "           2       0.00      0.00      0.00        16\n",
      "           3       0.52      0.52      0.52        52\n",
      "           4       0.54      0.17      0.26       110\n",
      "           5       0.45      0.41      0.43       161\n",
      "           6       0.55      0.42      0.48       433\n",
      "           7       0.25      0.05      0.08        44\n",
      "           8       0.55      0.85      0.67       634\n",
      "           9       0.47      0.17      0.25       169\n",
      "          10       0.56      0.73      0.63        62\n",
      "          11       0.44      0.38      0.41        69\n",
      "          12       0.00      0.00      0.00         1\n",
      "          13       0.00      0.00      0.00         1\n",
      "\n",
      "    accuracy                           0.53      1761\n",
      "   macro avg       0.38      0.31      0.32      1761\n",
      "weighted avg       0.52      0.53      0.50      1761\n",
      "\n"
     ]
    },
    {
     "name": "stderr",
     "output_type": "stream",
     "text": [
      "C:\\Users\\chala\\AppData\\Roaming\\Python\\Python312\\site-packages\\sklearn\\metrics\\_classification.py:1706: UndefinedMetricWarning: Precision is ill-defined and being set to 0.0 in labels with no predicted samples. Use `zero_division` parameter to control this behavior.\n",
      "  _warn_prf(average, modifier, f\"{metric.capitalize()} is\", result.shape[0])\n",
      "C:\\Users\\chala\\AppData\\Roaming\\Python\\Python312\\site-packages\\sklearn\\metrics\\_classification.py:1706: UndefinedMetricWarning: Precision is ill-defined and being set to 0.0 in labels with no predicted samples. Use `zero_division` parameter to control this behavior.\n",
      "  _warn_prf(average, modifier, f\"{metric.capitalize()} is\", result.shape[0])\n",
      "C:\\Users\\chala\\AppData\\Roaming\\Python\\Python312\\site-packages\\sklearn\\metrics\\_classification.py:1706: UndefinedMetricWarning: Precision is ill-defined and being set to 0.0 in labels with no predicted samples. Use `zero_division` parameter to control this behavior.\n",
      "  _warn_prf(average, modifier, f\"{metric.capitalize()} is\", result.shape[0])\n"
     ]
    }
   ],
   "source": [
    "# Import GridSearchCV and RandomForestClassifier\n",
    "from sklearn.model_selection import GridSearchCV\n",
    "from sklearn.ensemble import RandomForestClassifier\n",
    "from sklearn.metrics import accuracy_score, classification_report\n",
    "\n",
    "# Create a basic Random Forest model\n",
    "rf = RandomForestClassifier(random_state=42)  # random_state for reproducibility\n",
    "\n",
    "\n",
    "param_grid = {\n",
    "    'n_estimators': [100, 200, 300],       # number of trees\n",
    "    'max_depth': [5,10,15, None],        # maximum depth of each tree\n",
    "    'min_samples_split': [2, 5, 10]        # minimum samples to split a node\n",
    "}\n",
    "\n",
    "\n",
    "grid_search = GridSearchCV(\n",
    "    estimator=rf,              # model to tune\n",
    "    param_grid=param_grid,     # parameters to try\n",
    "    cv=10,                      # 5-fold cross-validation\n",
    "    n_jobs=-1,                 # use all CPU cores\n",
    "    verbose=2                  # print progress\n",
    ")\n",
    "\n",
    "\n",
    "grid_search.fit(X_train, y_train)\n",
    "\n",
    "print(\"Best Parameters:\", grid_search.best_params_)\n",
    "print(\"Best CV Score:\", grid_search.best_score_)\n",
    "\n",
    "\n",
    "best_rf = grid_search.best_estimator_  # the model with best parameters\n",
    "y_pred_rf = best_rf.predict(X_test)\n",
    "\n",
    "print(\" Optimized Random Forest Accuracy:\", accuracy_score(y_test, y_pred_rf))\n",
    "print(\"\\n Classification Report:\\n\", classification_report(y_test, y_pred_rf))\n"
   ]
  },
  {
   "cell_type": "code",
   "execution_count": 27,
   "id": "c3afa0d8",
   "metadata": {},
   "outputs": [
    {
     "name": "stdout",
     "output_type": "stream",
     "text": [
      "Fitting 5 folds for each of 12 candidates, totalling 60 fits\n"
     ]
    },
    {
     "name": "stderr",
     "output_type": "stream",
     "text": [
      "C:\\Users\\chala\\AppData\\Roaming\\Python\\Python312\\site-packages\\sklearn\\model_selection\\_split.py:811: UserWarning: The least populated class in y has only 2 members, which is less than n_splits=5.\n",
      "  warnings.warn(\n",
      "C:\\Users\\chala\\AppData\\Roaming\\Python\\Python312\\site-packages\\xgboost\\training.py:183: UserWarning: [23:50:45] WARNING: C:\\actions-runner\\_work\\xgboost\\xgboost\\src\\learner.cc:738: \n",
      "Parameters: { \"use_label_encoder\" } are not used.\n",
      "\n",
      "  bst.update(dtrain, iteration=i, fobj=obj)\n"
     ]
    },
    {
     "name": "stdout",
     "output_type": "stream",
     "text": [
      "Best Parameters: {'learning_rate': 0.1, 'max_depth': 5, 'n_estimators': 100}\n",
      "Best CV Score: 0.5139863862184657\n",
      "Optimized XGBoost Accuracy: 0.5229982964224872\n",
      "\n",
      " Classification Report:\n",
      "               precision    recall  f1-score   support\n",
      "\n",
      "           0       0.50      0.22      0.31         9\n",
      "           2       0.00      0.00      0.00        16\n",
      "           3       0.50      0.54      0.52        52\n",
      "           4       0.61      0.28      0.39       110\n",
      "           5       0.50      0.47      0.49       161\n",
      "           6       0.52      0.40      0.46       433\n",
      "           7       0.14      0.02      0.04        44\n",
      "           8       0.55      0.80      0.65       634\n",
      "           9       0.40      0.19      0.26       169\n",
      "          10       0.49      0.66      0.56        62\n",
      "          11       0.42      0.36      0.39        69\n",
      "          12       0.00      0.00      0.00         1\n",
      "          13       0.00      0.00      0.00         1\n",
      "\n",
      "    accuracy                           0.52      1761\n",
      "   macro avg       0.36      0.30      0.31      1761\n",
      "weighted avg       0.50      0.52      0.49      1761\n",
      "\n"
     ]
    },
    {
     "name": "stderr",
     "output_type": "stream",
     "text": [
      "C:\\Users\\chala\\AppData\\Roaming\\Python\\Python312\\site-packages\\sklearn\\metrics\\_classification.py:1706: UndefinedMetricWarning: Precision is ill-defined and being set to 0.0 in labels with no predicted samples. Use `zero_division` parameter to control this behavior.\n",
      "  _warn_prf(average, modifier, f\"{metric.capitalize()} is\", result.shape[0])\n",
      "C:\\Users\\chala\\AppData\\Roaming\\Python\\Python312\\site-packages\\sklearn\\metrics\\_classification.py:1706: UndefinedMetricWarning: Precision is ill-defined and being set to 0.0 in labels with no predicted samples. Use `zero_division` parameter to control this behavior.\n",
      "  _warn_prf(average, modifier, f\"{metric.capitalize()} is\", result.shape[0])\n",
      "C:\\Users\\chala\\AppData\\Roaming\\Python\\Python312\\site-packages\\sklearn\\metrics\\_classification.py:1706: UndefinedMetricWarning: Precision is ill-defined and being set to 0.0 in labels with no predicted samples. Use `zero_division` parameter to control this behavior.\n",
      "  _warn_prf(average, modifier, f\"{metric.capitalize()} is\", result.shape[0])\n"
     ]
    }
   ],
   "source": [
    "# Import XGBoost classifier\n",
    "from xgboost import XGBClassifier\n",
    "# Import GridSearchCV for hyperparameter tuning\n",
    "from sklearn.model_selection import GridSearchCV\n",
    "# Import metrics to evaluate the model\n",
    "from sklearn.metrics import accuracy_score, classification_report\n",
    "# Import joblib to save the final model\n",
    "import joblib\n",
    "\n",
    "\n",
    "xgb = XGBClassifier(random_state=42, use_label_encoder=False, eval_metric='mlogloss')\n",
    "\n",
    "\n",
    "param_grid_xgb = {\n",
    "    'n_estimators': [100, 200],       # Number of trees\n",
    "    'max_depth': [5, 10],             # Depth of each tree\n",
    "    'learning_rate': [0.05, 0.1, 0.2] # Step size for boosting\n",
    "}\n",
    "\n",
    "grid_search_xgb = GridSearchCV(\n",
    "    estimator=xgb,             # Model to tune\n",
    "    param_grid=param_grid_xgb, # Parameter combinations\n",
    "    cv=5,                      # 5-fold cross-validation\n",
    "    n_jobs=-1,                 # Use all CPU cores\n",
    "    verbose=2                  # Show progress\n",
    ")\n",
    "\n",
    "grid_search_xgb.fit(X_train, y_train)  # Train model on training data\n",
    "\n",
    "# Best hyperparameter combination\n",
    "print(\"Best Parameters:\", grid_search_xgb.best_params_)\n",
    "# Best cross-validation score\n",
    "print(\"Best CV Score:\", grid_search_xgb.best_score_)\n",
    "\n",
    "# Use best estimator to predict test data\n",
    "best_xgb = grid_search_xgb.best_estimator_\n",
    "y_pred_xgb = best_xgb.predict(X_test)\n",
    "\n",
    "# Evaluate accuracy and detailed classification metrics\n",
    "print(\"Optimized XGBoost Accuracy:\", accuracy_score(y_test, y_pred_xgb))\n",
    "print(\"\\n Classification Report:\\n\", classification_report(y_test, y_pred_xgb))\n",
    "\n"
   ]
  },
  {
   "cell_type": "markdown",
   "id": "1dae4693",
   "metadata": {},
   "source": [
    "DEPLOYMENT ON STEAMLIT + GITHUB"
   ]
  },
  {
   "cell_type": "code",
   "execution_count": 28,
   "id": "dc246045",
   "metadata": {},
   "outputs": [
    {
     "data": {
      "text/plain": [
       "['xgboost_netflix_model.pkl']"
      ]
     },
     "execution_count": 28,
     "metadata": {},
     "output_type": "execute_result"
    }
   ],
   "source": [
    "import joblib\n",
    "\n",
    "# Save the tuned Random Forest\n",
    "joblib.dump(best_rf, \"randomforest_netflix_model.pkl\")\n",
    "\n",
    "# Save the tuned XGBoost\n",
    "joblib.dump(best_xgb, \"xgboost_netflix_model.pkl\")\n"
   ]
  },
  {
   "cell_type": "code",
   "execution_count": 29,
   "id": "c11cbf6f",
   "metadata": {},
   "outputs": [],
   "source": [
    "# Load Random Forest\n",
    "rf_model = joblib.load(\"randomforest_netflix_model.pkl\")\n",
    "\n",
    "# Load XGBoost\n",
    "xgb_model = joblib.load(\"xgboost_netflix_model.pkl\")\n",
    "\n",
    "# Example: predict using Random Forest\n",
    "y_pred = rf_model.predict(X_test)\n"
   ]
  },
  {
   "cell_type": "code",
   "execution_count": 30,
   "id": "eefd8a47",
   "metadata": {},
   "outputs": [
    {
     "name": "stdout",
     "output_type": "stream",
     "text": [
      "3787                      Bad Blood\n",
      "166     Once Upon a Time in America\n",
      "7202              Kill the Irishman\n",
      "8231                       The Bund\n",
      "8610                        Tracers\n",
      "Name: title, dtype: object\n"
     ]
    }
   ],
   "source": [
    "from sklearn.feature_extraction.text import TfidfVectorizer\n",
    "from sklearn.metrics.pairwise import cosine_similarity\n",
    "\n",
    "# TF-IDF on descriptions\n",
    "tfidf = TfidfVectorizer(stop_words='english')\n",
    "tfidf_matrix = tfidf.fit_transform(df['description_clean'])\n",
    "\n",
    "# Cosine similarity matrix\n",
    "cos_sim = cosine_similarity(tfidf_matrix, tfidf_matrix)\n",
    "\n",
    "# To recommend top 5 similar shows for show index 10\n",
    "import numpy as np\n",
    "sim_scores = list(enumerate(cos_sim[10]))\n",
    "sim_scores = sorted(sim_scores, key=lambda x: x[1], reverse=True)\n",
    "top_5 = [i[0] for i in sim_scores[1:6]]  # skip itself\n",
    "print(df.iloc[top_5]['title'])\n"
   ]
  },
  {
   "cell_type": "code",
   "execution_count": 36,
   "id": "8809e9d3",
   "metadata": {},
   "outputs": [
    {
     "data": {
      "text/plain": [
       "['October Faction', 'Trese', 'Curon', '46', 'Good Witch']"
      ]
     },
     "execution_count": 36,
     "metadata": {},
     "output_type": "execute_result"
    }
   ],
   "source": [
    "def recommend_show_filtered(title, df, tfidf_matrix, top_n=5):\n",
    "    # 1️⃣ Find the index of the show\n",
    "    idx = df[df['title'] == title].index[0]\n",
    "    show_type = df.loc[idx, 'type']          # Movie or TV Show\n",
    "    show_genres = set(df.loc[idx, 'listed_in'].split(', '))  # genres of the show\n",
    "\n",
    "    # Filter dataframe by type and overlapping genres\n",
    "    df_filtered = df[\n",
    "        (df['type'] == show_type) &\n",
    "        (df['listed_in'].apply(lambda x: len(show_genres.intersection(set(x.split(', ')))) > 0))\n",
    "    ]\n",
    "    \n",
    "   \n",
    "    filtered_indices = df_filtered.index.tolist()\n",
    "\n",
    "    # Compute cosine similarity only within filtered shows\n",
    "    sim_scores = list(enumerate(cosine_similarity(tfidf_matrix[idx], tfidf_matrix)[0]))\n",
    "    sim_scores = [s for s in sim_scores if s[0] in filtered_indices]\n",
    "\n",
    "    # Sort by similarity\n",
    "    sim_scores = sorted(sim_scores, key=lambda x: x[1], reverse=True)\n",
    "\n",
    "    # Get top N recommendations (excluding the show itself)\n",
    "    top_indices = [i[0] for i in sim_scores if i[0] != idx][:top_n]\n",
    "\n",
    "    return df.iloc[top_indices]['title'].tolist()\n",
    "\n",
    "recommend_show_filtered(\"Stranger Things\", df, tfidf_matrix, top_n=5)\n",
    "\n"
   ]
  },
  {
   "cell_type": "code",
   "execution_count": 37,
   "id": "64fd7e0a",
   "metadata": {},
   "outputs": [
    {
     "data": {
      "text/plain": [
       "['Neo Yokio',\n",
       " 'Maniac',\n",
       " 'The OA',\n",
       " 'The Haunting of Hill House',\n",
       " 'The Unsettling']"
      ]
     },
     "execution_count": 37,
     "metadata": {},
     "output_type": "execute_result"
    }
   ],
   "source": [
    "def recommend_show_advanced(title, df, tfidf_matrix, top_n=5):\n",
    "   \n",
    "    idx = df[df['title'] == title].index[0]\n",
    "    show_type = df.loc[idx, 'type']\n",
    "    show_genres = set(df.loc[idx, 'listed_in'].split(', '))\n",
    "    show_country = df.loc[idx, 'country']\n",
    "    show_decade = df.loc[idx, 'decade']\n",
    "\n",
    "    \n",
    "    df_filtered = df[\n",
    "        (df['type'] == show_type) &\n",
    "        (df['listed_in'].apply(lambda x: len(show_genres.intersection(set(x.split(', ')))) > 0)) &\n",
    "        (df['country'] == show_country) &\n",
    "        (df['decade'] == show_decade)\n",
    "    ]\n",
    "\n",
    "   \n",
    "    filtered_indices = df_filtered.index.tolist()\n",
    "\n",
    "    sim_scores = list(enumerate(cosine_similarity(tfidf_matrix[idx], tfidf_matrix)[0]))\n",
    "    sim_scores = [s for s in sim_scores if s[0] in filtered_indices]\n",
    "\n",
    "    \n",
    "    sim_scores = sorted(sim_scores, key=lambda x: x[1], reverse=True)\n",
    "\n",
    "  \n",
    "    top_indices = [i[0] for i in sim_scores if i[0] != idx][:top_n]\n",
    "\n",
    "    return df.iloc[top_indices]['title'].tolist()\n",
    "\n",
    "\n",
    "recommend_show_advanced(\"Stranger Things\", df, tfidf_matrix, top_n=5)\n"
   ]
  },
  {
   "cell_type": "code",
   "execution_count": 33,
   "id": "77a1279c",
   "metadata": {},
   "outputs": [],
   "source": [
    "import pickle\n",
    "\n",
    "# Save everything needed\n",
    "with open(\"tfidf_vectorizer.pkl\", \"wb\") as f:\n",
    "    pickle.dump(tfidf, f)\n",
    "\n",
    "with open(\"tfidf_matrix.pkl\", \"wb\") as f:\n",
    "    pickle.dump(tfidf_matrix, f)\n",
    "\n",
    "df.to_pickle(\"shows_dataframe.pkl\")\n"
   ]
  }
 ],
 "metadata": {
  "kernelspec": {
   "display_name": "Python 3",
   "language": "python",
   "name": "python3"
  },
  "language_info": {
   "codemirror_mode": {
    "name": "ipython",
    "version": 3
   },
   "file_extension": ".py",
   "mimetype": "text/x-python",
   "name": "python",
   "nbconvert_exporter": "python",
   "pygments_lexer": "ipython3",
   "version": "3.12.5"
  }
 },
 "nbformat": 4,
 "nbformat_minor": 5
}
